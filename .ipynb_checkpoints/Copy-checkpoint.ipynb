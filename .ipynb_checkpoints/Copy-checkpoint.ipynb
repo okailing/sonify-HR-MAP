{
 "cells": [
  {
   "cell_type": "markdown",
   "metadata": {},
   "source": [
    "# Otto Kailing -- Vital Sign Data Sonification"
   ]
  },
  {
   "cell_type": "markdown",
   "metadata": {},
   "source": [
    "## Setup"
   ]
  },
  {
   "cell_type": "code",
   "execution_count": 3,
   "metadata": {},
   "outputs": [
    {
     "name": "stdout",
     "output_type": "stream",
     "text": [
      "Requirement already satisfied: saxpy in /Users/reverie/opt/anaconda3/lib/python3.8/site-packages (1.0.1.dev167)\n",
      "Requirement already satisfied: pytest in /Users/reverie/opt/anaconda3/lib/python3.8/site-packages (from saxpy) (0.0.0)\n",
      "Requirement already satisfied: codecov in /Users/reverie/opt/anaconda3/lib/python3.8/site-packages (from saxpy) (2.1.11)\n",
      "Requirement already satisfied: numpy in /Users/reverie/opt/anaconda3/lib/python3.8/site-packages (from saxpy) (1.19.2)\n",
      "Requirement already satisfied: pytest-cov in /Users/reverie/opt/anaconda3/lib/python3.8/site-packages (from saxpy) (2.11.1)\n",
      "Requirement already satisfied: attrs>=17.4.0 in /Users/reverie/opt/anaconda3/lib/python3.8/site-packages (from pytest->saxpy) (20.3.0)\n",
      "Requirement already satisfied: iniconfig in /Users/reverie/opt/anaconda3/lib/python3.8/site-packages (from pytest->saxpy) (1.1.1)\n",
      "Requirement already satisfied: packaging in /Users/reverie/opt/anaconda3/lib/python3.8/site-packages (from pytest->saxpy) (20.4)\n",
      "Requirement already satisfied: pluggy<1.0,>=0.12 in /Users/reverie/opt/anaconda3/lib/python3.8/site-packages (from pytest->saxpy) (0.13.1)\n",
      "Requirement already satisfied: py>=1.8.2 in /Users/reverie/opt/anaconda3/lib/python3.8/site-packages (from pytest->saxpy) (1.9.0)\n",
      "Requirement already satisfied: toml in /Users/reverie/opt/anaconda3/lib/python3.8/site-packages (from pytest->saxpy) (0.10.1)\n",
      "Requirement already satisfied: coverage in /Users/reverie/opt/anaconda3/lib/python3.8/site-packages (from codecov->saxpy) (5.5)\n",
      "Requirement already satisfied: requests>=2.7.9 in /Users/reverie/opt/anaconda3/lib/python3.8/site-packages (from codecov->saxpy) (2.24.0)\n",
      "Requirement already satisfied: pyparsing>=2.0.2 in /Users/reverie/opt/anaconda3/lib/python3.8/site-packages (from packaging->pytest->saxpy) (2.4.7)\n",
      "Requirement already satisfied: six in /Users/reverie/opt/anaconda3/lib/python3.8/site-packages (from packaging->pytest->saxpy) (1.15.0)\n",
      "Requirement already satisfied: chardet<4,>=3.0.2 in /Users/reverie/opt/anaconda3/lib/python3.8/site-packages (from requests>=2.7.9->codecov->saxpy) (3.0.4)\n",
      "Requirement already satisfied: urllib3!=1.25.0,!=1.25.1,<1.26,>=1.21.1 in /Users/reverie/opt/anaconda3/lib/python3.8/site-packages (from requests>=2.7.9->codecov->saxpy) (1.25.11)\n",
      "Requirement already satisfied: idna<3,>=2.5 in /Users/reverie/opt/anaconda3/lib/python3.8/site-packages (from requests>=2.7.9->codecov->saxpy) (2.10)\n",
      "Requirement already satisfied: certifi>=2017.4.17 in /Users/reverie/opt/anaconda3/lib/python3.8/site-packages (from requests>=2.7.9->codecov->saxpy) (2020.6.20)\n",
      "Requirement already satisfied: playsound in /Users/reverie/opt/anaconda3/lib/python3.8/site-packages (1.2.2)\n",
      "Requirement already satisfied: simpleaudio in /Users/reverie/opt/anaconda3/lib/python3.8/site-packages (1.0.4)\n",
      "Requirement already up-to-date: pyo in /Users/reverie/opt/anaconda3/lib/python3.8/site-packages (1.0.3)\n",
      "\n",
      "WxPython is not found for the current python version.\n",
      "Pyo will use a minimal GUI toolkit written with Tkinter (if available).\n",
      "This toolkit has limited functionnalities and is no more\n",
      "maintained or updated. If you want to use all of pyo's\n",
      "GUI features, you should install WxPython, available here:\n",
      "http://www.wxpython.org/\n",
      "\n"
     ]
    }
   ],
   "source": [
    "# Authors : Otto Kailing; Gian C. Rodríguez\n",
    "# Based on work by : José Constantino Sánchez Curet\n",
    "\n",
    "# Install the necessary things before importing\n",
    "!pip install saxpy\n",
    "!pip install playsound\n",
    "!pip install simpleaudio\n",
    "!pip install -U pyo\n",
    "\n",
    "# Importing libraries and required packages\n",
    "import numpy as np\n",
    "\n",
    "from saxpy.znorm import znorm              # to normalize the time series\n",
    "from saxpy.paa import paa                  # PAA\n",
    "from saxpy.sax import ts_to_string         # to convert the time series to string\n",
    "from saxpy.alphabet import cuts_for_asize  # alphabet size\n",
    "# from saxpy.sax import sax_via_window       # for smaller SAX words -- not currently used\n",
    "\n",
    "from pyo import *                              # actually can synthesize sound !!!!!!!!!\n",
    "import time\n",
    "\n",
    "import matplotlib.pyplot as plt\n",
    "\n",
    "import simpleaudio as sa                # basic sound playing package\n",
    "\n",
    "import csv                 # to be able to import .csv (and our .dat) files\n",
    "import pandas as pd        # for the readcsv function, to read in data"
   ]
  },
  {
   "cell_type": "markdown",
   "metadata": {},
   "source": [
    "## Working with two files at once"
   ]
  },
  {
   "cell_type": "code",
   "execution_count": 4,
   "metadata": {},
   "outputs": [
    {
     "name": "stdout",
     "output_type": "stream",
     "text": [
      "Length of HR file  = 3865 \n",
      "Length of HR1 file = 20698\n"
     ]
    }
   ],
   "source": [
    "# We are working with Otto's patients,working on heart rates.\n",
    "HR = pd.read_csv(\"data/HR_01.dat\", header = None)\n",
    "HR1 = pd.read_csv(\"data/HR_30.dat\", header = None)\n",
    "\n",
    "# Convert both to array of floats\n",
    "HR = HR[0]\n",
    "HR1 = HR1[0]\n",
    "\n",
    "# Verify that they're both the same length\n",
    "print(\"Length of HR file  =\", len(HR), \"\\nLength of HR1 file =\", len(HR1))"
   ]
  },
  {
   "cell_type": "code",
   "execution_count": 5,
   "metadata": {},
   "outputs": [],
   "source": [
    "# Create backup of raw data\n",
    "# !!!!!!!!!!!!! RERUNNING THIS CELL WILL DELETE THE BACKUP !!!!!!!!!!!!!\n",
    "HR_raw = HR\n",
    "HR1_raw = HR1"
   ]
  },
  {
   "cell_type": "code",
   "execution_count": 6,
   "metadata": {},
   "outputs": [
    {
     "data": {
      "image/png": "[encoded data removed]",
      "text/plain": [
       "<Figure size 432x288 with 1 Axes>"
      ]
     },
     "metadata": {
      "needs_background": "light"
     },
     "output_type": "display_data"
    }
   ],
   "source": [
    "# Plot both raw files on the same plot\n",
    "plt.plot(HR_raw, label = \"Heart Rate (bpm)\")\n",
    "plt.plot(HR1_raw, label = \"Heart Rate 1 (bpm)\")\n",
    "plt.title(\"Heart rates of different patients\")\n",
    "plt.xlabel(\"Time (minutes)\")\n",
    "plt.legend()\n",
    "plt.show()"
   ]
  },
  {
   "cell_type": "code",
   "execution_count": 7,
   "metadata": {},
   "outputs": [
    {
     "name": "stdout",
     "output_type": "stream",
     "text": [
      "PAA size = 48\n",
      "\n",
      "Post PAA:\n",
      "Length of HR  = 48 \n",
      "Length of HR1 = 48\n"
     ]
    }
   ],
   "source": [
    "# Normalize the data\n",
    "HR = znorm(HR)\n",
    "HR1 = znorm(HR1)\n",
    "\n",
    "# Define PAA size (divide by 80 is what Otto used in the summer 2020 project)\n",
    "#  * We want same PAA size for both files, so they end up the same length too\n",
    "#  * len(HR_raw) because this will not change. In contrast, the objects\n",
    "#    \"HR\" and \"MAP\" are being reassigned at every step.\n",
    "paa_size = int(len(HR_raw) / 80)\n",
    "print(\"PAA size =\", paa_size)\n",
    "\n",
    "if (paa_size != 0):\n",
    "    # Apply PAA to both files\n",
    "    HR = paa(HR, paa_size)\n",
    "    HR1 = paa(HR1, paa_size)\n",
    "    # NOTE: this should not cause any problems with rerunning. Asking to run a PAA\n",
    "    # of the post-PAA data with the same size should just regenerate the same data.\n",
    "    \n",
    "    # Verify that they're both the same length\n",
    "    print(\"\\nPost PAA:\\nLength of HR  =\", len(HR), \"\\nLength of HR1 =\", len(HR1))\n",
    "else:\n",
    "    print(\"Error: PAA size is 0; cannot divide by 0\")\n"
   ]
  },
  {
   "cell_type": "code",
   "execution_count": 9,
   "metadata": {},
   "outputs": [
    {
     "data": {
      "image/png": "[encoded data removed]",
      "text/plain": [
       "<Figure size 432x288 with 1 Axes>"
      ]
     },
     "metadata": {
      "needs_background": "light"
     },
     "output_type": "display_data"
    }
   ],
   "source": [
    "# Plot the files post PAA adjustment.\n",
    "plt.plot(HR, label = \"Heart Rate\")\n",
    "plt.plot(HR1, label = \"Heart rate 1\")\n",
    "plt.title(\"PAA of HR for different patients\")\n",
    "plt.xlabel(\"PAA divisions\")\n",
    "plt.legend()\n",
    "plt.show()"
   ]
  },
  {
   "cell_type": "markdown",
   "metadata": {},
   "source": [
    "### Making SAX strings"
   ]
  },
  {
   "cell_type": "code",
   "execution_count": 10,
   "metadata": {},
   "outputs": [
    {
     "name": "stdout",
     "output_type": "stream",
     "text": [
      "HR SAX:  ffggggghhhhhhhhhhgfedcbbbbbbcccccccddeedbbaaaaaa \n",
      "HR1 SAX: gfghgehhfggffeefeeeebabcbdfecceeedeefgggcaaaaaac\n"
     ]
    }
   ],
   "source": [
    "# Define SAX alphabet size\n",
    "asize = 8\n",
    "\n",
    "# Create SAX strings of the two objects\n",
    "HR_SAX = ts_to_string(HR, cuts_for_asize(asize))\n",
    "HR1_SAX = ts_to_string(HR1, cuts_for_asize(asize))\n",
    "\n",
    "# Prints the SAX strings\n",
    "print(\"HR SAX: \", HR_SAX, \"\\nHR1 SAX:\", HR1_SAX)"
   ]
  },
  {
   "cell_type": "markdown",
   "metadata": {},
   "source": [
    "## Testing newly duplicated files\n",
    "\n",
    "In the interest of comparing to the \"isHypo.m\" file, where the patients are numbered 1–58 to categorize them, I renamed the files in Finder. I will however execute "
   ]
  },
  {
   "cell_type": "code",
   "execution_count": null,
   "metadata": {},
   "outputs": [],
   "source": []
  },
  {
   "cell_type": "code",
   "execution_count": null,
   "metadata": {},
   "outputs": [],
   "source": []
  },
  {
   "cell_type": "markdown",
   "metadata": {},
   "source": [
    "# Code to see if we can hear a difference in patients\n",
    "\n",
    "Patients will be chosed randomly. This code will provide  us with the sound of each patient in harmony."
   ]
  },
  {
   "cell_type": "code",
   "execution_count": 29,
   "metadata": {},
   "outputs": [
    {
     "name": "stdout",
     "output_type": "stream",
     "text": [
      "Pyo warning: Portmidi warning: no midi device found!\n",
      "Portmidi closed.\n"
     ]
    }
   ],
   "source": [
    "#Server for pyo\n",
    "s = Server().boot()\n",
    "#HR_sound would be our default for our first \"Heart rate file\" comparison, HR1_sound would be the second heart rate.\n",
    "HR_sound = Sine(mul = 0.1).out()\n",
    "\n",
    "\n",
    "#HR1_sound code is more complex, i want to add a phaser effect to test pyo's fx library.\n",
    "\n",
    "HR1_sound = SineLoop(freq=[random.uniform(190,210) for i in range(50)],\n",
    "                     mul=0.01)\n",
    "lfo = Sine(.25).range(200, 400)\n",
    "phs = Phaser(HR1_sound.mix(), freq=lfo, q=10).out()\n",
    "\n"
   ]
  },
  {
   "cell_type": "markdown",
   "metadata": {},
   "source": [
    "Now we try our first test on two different heart rates at the same time."
   ]
  },
  {
   "cell_type": "code",
   "execution_count": 61,
   "metadata": {},
   "outputs": [
    {
     "name": "stdout",
     "output_type": "stream",
     "text": [
      "HR\tHR1\n",
      "g \t g\n",
      "g \t g\n",
      "h \t h\n",
      "h \t h\n",
      "h \t h\n",
      "g \t g\n",
      "h \t h\n",
      "h \t h\n",
      "h \t h\n",
      "f \t f\n",
      "b \t b\n",
      "a \t a\n",
      "a \t a\n",
      "a \t a\n",
      "a \t a\n",
      "a \t a\n",
      "a \t a\n",
      "a \t a\n",
      "a \t a\n",
      "a \t a\n",
      "a \t a\n",
      "a \t a\n",
      "a \t a\n",
      "a \t a\n",
      "a \t a\n",
      "a \t a\n",
      "a \t a\n",
      "a \t a\n",
      "b \t b\n",
      "b \t b\n",
      "b \t b\n",
      "a \t a\n",
      "b \t b\n",
      "b \t b\n",
      "b \t b\n",
      "b \t b\n",
      "b \t b\n",
      "b \t b\n",
      "b \t b\n",
      "a \t a\n",
      "a \t a\n",
      "c \t c\n",
      "b \t b\n",
      "b \t b\n",
      "d \t d\n",
      "e \t e\n",
      "d \t d\n",
      "e \t e\n",
      "e \t e\n",
      "e \t e\n",
      "e \t e\n",
      "e \t e\n",
      "f \t f\n",
      "d \t d\n",
      "c \t c\n",
      "d \t d\n",
      "d \t d\n",
      "e \t e\n",
      "f \t f\n",
      "c \t c\n",
      "c \t c\n",
      "c \t c\n",
      "d \t d\n",
      "e \t e\n",
      "f \t f\n",
      "f \t f\n",
      "e \t e\n",
      "e \t e\n",
      "e \t e\n",
      "f \t f\n",
      "f \t f\n",
      "f \t f\n",
      "e \t e\n",
      "e \t e\n",
      "d \t d\n",
      "c \t c\n",
      "c \t c\n",
      "e \t e\n",
      "e \t e\n",
      "g \t g\n",
      "g \t g\n",
      "e \t e\n",
      "d \t d\n",
      "f \t f\n",
      "g \t g\n",
      "h \t h\n",
      "f \t f\n",
      "e \t e\n",
      "e \t e\n",
      "e \t e\n",
      "d \t d\n",
      "c \t c\n",
      "d \t d\n",
      "d \t d\n",
      "d \t d\n",
      "e \t e\n",
      "d \t d\n",
      "g \t g\n",
      "g \t g\n",
      "g \t g\n",
      "g \t g\n",
      "g \t g\n",
      "h \t h\n",
      "h \t h\n",
      "h \t h\n",
      "h \t h\n",
      "h \t h\n",
      "g \t g\n",
      "g \t g\n",
      "h \t h\n",
      "h \t h\n",
      "g \t g\n",
      "g \t g\n",
      "g \t g\n",
      "h \t h\n",
      "h \t h\n",
      "g \t g\n",
      "c \t c\n",
      "c \t c\n",
      "e \t e\n",
      "e \t e\n",
      "f \t f\n",
      "e \t e\n"
     ]
    }
   ],
   "source": [
    "# Loops paa_size times, using an integer as index.\n",
    "print(\"HR\\tHR1\")\n",
    "\n",
    "# Starts the pyo sound player\n",
    "s.start()\n",
    "\n",
    "for x in range(0, paa_size):\n",
    "    # Prints the SAX letter for both strings.\n",
    "    print(HR_SAX[x], \"\\t\", HR1_SAX[x])\n",
    "    \n",
    "    # Determine the correct note for HR_sound to play.\n",
    "    if HR1_SAX[x] == \"a\":\n",
    "        HR1_sound.setFreq(220) # A3\n",
    "    elif HR1_SAX[x] == \"b\":\n",
    "        HR1_sound.setFreq(246.94) # B3\n",
    "    elif HR1_SAX[x] == \"c\":\n",
    "        HR1_sound.setFreq(277.18) # C#4\n",
    "    elif HR1_SAX[x] == \"d\":\n",
    "        HR_sound.setFreq(293.66) # D4\n",
    "    elif HR1_SAX[x] == \"e\":\n",
    "        HR_sound.setFreq(329.63) # E4\n",
    "    elif HR1_SAX[x] == \"f\":\n",
    "        HR_sound.setFreq(369.99) # F#4\n",
    "    elif HR1_SAX[x] == \"g\":\n",
    "        HR_sound.setFreq(415.30) # G#4\n",
    "    else: # \"h\"\n",
    "        HR_sound.setFreq(440) # A4\n",
    "    \n",
    "    # Determine the correct note for MAP_sound to play.\n",
    "    if HR_SAX[x] == \"a\":\n",
    "        HR_sound.setFreq(440) # A4\n",
    "    elif HR_SAX[x] == \"b\":\n",
    "        HR_sound.setFreq(493.88) # B4\n",
    "    elif HR_SAX[x] == \"c\":\n",
    "        HR_sound.setFreq(554.37) # C#5\n",
    "    elif HR_SAX[x] == \"d\":\n",
    "        HR_sound.setFreq(587.33) # D5\n",
    "    elif HR_SAX[x] == \"e\":\n",
    "        HR_sound.setFreq(659.25) # E5\n",
    "    elif HR_SAX[x] == \"f\":\n",
    "        HR_sound.setFreq(739.99) # F#5\n",
    "    elif HR_SAX[x] == \"g\":\n",
    "        HR_sound.setFreq(830.61) # G#5\n",
    "    else: # \"h\"\n",
    "        HR_sound.setFreq(880) # A5\n",
    "    \n",
    "    # Play HR_sound and MAP_sound at the same time.\n",
    "    time.sleep(0.5) #half a second\n",
    "\n",
    "# Stops the pyo sound player\n",
    "s.stop()"
   ]
  },
  {
   "cell_type": "markdown",
   "metadata": {},
   "source": [
    "## Comparing different patients\n",
    "\n",
    "The [PhysioNet contest](https://physionet.org/content/challenge-2009/1.0.0/) from which these data are taken (the \"training\" dataset) involved, as the title would suggest, \"Predicting Acute Hypotensive Episodes.\" As such, the training data includes patients with and without periods of acute hypotension, as well as those who experienced hypotension before or after the data were collected. There are a wide variety of data. Hopefully we can see -- <em> and hear</em> -- as much.\n",
    "\n",
    "### Code for producing sound in both HR-MAP on two patients.\n",
    "\n",
    "Next lines of code should read both patients HR-MAP at the same time. Hope this works..."
   ]
  },
  {
   "cell_type": "code",
   "execution_count": 35,
   "metadata": {},
   "outputs": [
    {
     "name": "stdout",
     "output_type": "stream",
     "text": [
      "Length of HR file  = 9853 \n",
      "Length of MAP file = 9853 \n",
      "Length of HR1 file  = 3658 \n",
      "Length of MAP1 file = 3658\n"
     ]
    }
   ],
   "source": [
    "# We are working with Otto's patients,working on HR and MAP.\n",
    "\n",
    "# Patient one\n",
    "HR = pd.read_csv(\"data/HR_05.dat\", header = None)\n",
    "MAP = pd.read_csv(\"data/MAP_05.dat\", header = None)\n",
    "\n",
    "HR1 = pd.read_csv(\"data/HR_40.dat\", header = None)\n",
    "MAP1 = pd.read_csv(\"data/MAP_40.dat\", header = None)\n",
    "\n",
    "\n",
    "\n",
    "# Convert both to array of floats\n",
    "HR = HR[0]\n",
    "MAP = MAP[0]\n",
    "HR1 = HR1[0]\n",
    "MAP1 = MAP1[0]\n",
    "\n",
    "# Verify that they're both the same length\n",
    "print(\"Length of HR file  =\", len(HR), \"\\nLength of MAP file =\", len(MAP),\n",
    "      \"\\nLength of HR1 file  =\", len(HR1), \"\\nLength of MAP1 file =\", len(MAP1))\n",
    "     "
   ]
  },
  {
   "cell_type": "markdown",
   "metadata": {},
   "source": [
    "### Backup of the raw data"
   ]
  },
  {
   "cell_type": "code",
   "execution_count": 46,
   "metadata": {},
   "outputs": [],
   "source": [
    "# # Commented out for not interrupting the demo\n",
    "HR_raw = HR\n",
    "MAP_raw = MAP\n",
    "HR1_raw = HR1\n",
    "MAP1_raw = MAP1"
   ]
  },
  {
   "cell_type": "code",
   "execution_count": 49,
   "metadata": {
    "scrolled": true
   },
   "outputs": [
    {
     "data": {
      "image/png": "[encoded data removed]",
      "text/plain": [
       "<Figure size 432x288 with 1 Axes>"
      ]
     },
     "metadata": {
      "needs_background": "light"
     },
     "output_type": "display_data"
    }
   ],
   "source": [
    "# Plot both raw files on the same plot\n",
    "# Second Patient is one\n",
    "plt.plot(HR_raw, label = \"Heart Rate (bpm)\")\n",
    "plt.plot(HR1_raw, label = \"Heart Rate 1 (bpm)\")\n",
    "plt.plot(MAP_raw, label = \"Mean Arterial Pressure (mmHg)\")\n",
    "plt.plot(MAP1_raw, label = \"Mean Arterial Pressure 1 (mmHg)\")\n",
    "plt.title(\"Heart rate and mean arterial pressure for two patients\")\n",
    "plt.xlabel(\"Time (minutes)\")\n",
    "plt.legend()\n",
    "plt.show()\n",
    "\n"
   ]
  },
  {
   "cell_type": "markdown",
   "metadata": {},
   "source": [
    "## Nromalize the data\n",
    "\n",
    "We are working with two patients data to normalize."
   ]
  },
  {
   "cell_type": "code",
   "execution_count": 52,
   "metadata": {
    "scrolled": true
   },
   "outputs": [
    {
     "name": "stdout",
     "output_type": "stream",
     "text": [
      "PAA size = 123\n",
      "PAA size = 123\n",
      "\n",
      "Post PAA:\n",
      "Length of HR  = 123 \n",
      "Length of HR1 = 123 \n",
      "Length of MAP = 123 \n",
      "Length of MAP1 = 123\n"
     ]
    }
   ],
   "source": [
    "# Normalize the data\n",
    "HR = znorm(HR)\n",
    "MAP = znorm(MAP)\n",
    "HR1 = znorm(HR)\n",
    "MAP1 = znorm(MAP1)\n",
    "\n",
    "# Define PAA size (divide by 80 is what Otto used in the summer 2020 project)\n",
    "#  * We want same PAA size for both files, so they end up the same length too\n",
    "#  * len(HR_raw) because this will not change. In contrast, the objects\n",
    "#    \"HR\" and \"MAP\" are being reassigned at every step.\n",
    "paa_size = int(len(HR_raw) / 80)\n",
    "print(\"PAA size =\", paa_size)\n",
    "\n",
    "paa_size1 = int(len(HR1_raw)/80)\n",
    "print(\"PAA size =\", paa_size)\n",
    "\n",
    "if (paa_size, paa_size1 != 0):\n",
    "    # Apply PAA to both files\n",
    "    HR = paa(HR, paa_size)\n",
    "    MAP = paa(MAP, paa_size)\n",
    "    HR1 = paa(HR1, paa_size)\n",
    "    MAP1 = paa(MAP1, paa_size)\n",
    "    \n",
    "    # Verify that they're both the same length\n",
    "    print(\"\\nPost PAA:\\nLength of HR  =\", len(HR), \"\\nLength of HR1 =\", len(HR1),\n",
    "          \"\\nLength of MAP =\", len(MAP), \"\\nLength of MAP1 =\", len(MAP1))\n",
    "else:\n",
    "    print(\"Error: PAA size is 0; cannot divide by 0\")"
   ]
  },
  {
   "cell_type": "code",
   "execution_count": 54,
   "metadata": {
    "scrolled": true
   },
   "outputs": [
    {
     "data": {
      "image/png": "[encoded data removed]",
      "text/plain": [
       "<Figure size 432x288 with 1 Axes>"
      ]
     },
     "metadata": {
      "needs_background": "light"
     },
     "output_type": "display_data"
    }
   ],
   "source": [
    "# Plot the files post PAA adjustment.\n",
    "plt.plot(HR, label = \"Heart Rate\")\n",
    "plt.plot(HR1, label = \"Heart Rate 1\")\n",
    "plt.plot(MAP, label = \"Mean Arterial Pressure\")\n",
    "plt.plot(MAP1, label = \"Mean Arterial Pressure 1\")\n",
    "plt.title(\"PAA of HR and PAA for different patients\")\n",
    "plt.xlabel(\"PAA divisions\")\n",
    "plt.legend()\n",
    "plt.show()"
   ]
  },
  {
   "cell_type": "code",
   "execution_count": 55,
   "metadata": {},
   "outputs": [
    {
     "name": "stdout",
     "output_type": "stream",
     "text": [
      "HR SAX:  gghhhghhhfbaaaaaaaaaaaaaaaaabbbabbbbbbbaacbbdedeeeeefdcddefcccdeffeeefffeedcceeggedfghfeeedcdddedggggghhhhhgghhggghhgcceefe \n",
      "MAP SAX: hhhedeadcbcddeedecbabaaaaaaaaaaaabababbabbcbcabccbddebbbbcdbbbecfddeeggdedddegghgddhhhfgffddgeghghhhhhhhhgheehffeghggddefff \n",
      "HR1 SAX:  gghhhghhhfbaaaaaaaaaaaaaaaaabbbabbbbbbbaacbbdedeeeeefdcddefcccdeffeeefffeedcceeggedfghfeeedcdddedggggghhhhhgghhggghhgcceefe \n",
      "MAP1: ggffggghhggfghggffecbefddhghfeebceeaceeedddeeehecdfhhgghgccdeeeaaffeaagfghefdfedbdddbbfdghhfdedcbccccbbbbdedeedcaaaaaaaaaah\n"
     ]
    }
   ],
   "source": [
    "# Define SAX alphabet size\n",
    "asize = 8\n",
    "\n",
    "# Create SAX strings of the two objects\n",
    "HR_SAX = ts_to_string(HR, cuts_for_asize(asize))\n",
    "MAP_SAX = ts_to_string(MAP, cuts_for_asize(asize))\n",
    "HR1_SAX = ts_to_string(HR1, cuts_for_asize(asize))\n",
    "MAP1_SAX = ts_to_string(MAP1, cuts_for_asize(asize))\n",
    "\n",
    "# Prints the SAX strings\n",
    "print(\"HR SAX: \", HR_SAX, \"\\nMAP SAX:\", MAP_SAX, \n",
    "      \"\\nHR1 SAX: \", HR1_SAX, \"\\nMAP1:\", MAP1_SAX)"
   ]
  },
  {
   "cell_type": "markdown",
   "metadata": {},
   "source": [
    "## Code for testing both patients at the same time."
   ]
  },
  {
   "cell_type": "code",
   "execution_count": 59,
   "metadata": {},
   "outputs": [
    {
     "name": "stdout",
     "output_type": "stream",
     "text": [
      "Pyo warning: Portmidi warning: no midi device found!\n",
      "Portmidi closed.\n"
     ]
    }
   ],
   "source": [
    "#Server for pyo\n",
    "s = Server().boot()\n",
    "#HR_sound would be our default for our first \"Heart rate file\" comparison, HR1_sound would be the second heart rate.\n",
    "HR_sound = Sine(mul = 0.1).out()\n",
    "MAP_sound = Sine(mul = 0.1).out()\n",
    "\n",
    "#HR1_sound code is more complex, i want to add a phaser effect to test pyo's fx library.\n",
    "\n",
    "HR1_sound = Sine(mul = 0.1).out()\n",
    "\n",
    "MAP1_sound = Sine(mul = 0.1).out()"
   ]
  },
  {
   "cell_type": "code",
   "execution_count": 60,
   "metadata": {},
   "outputs": [
    {
     "name": "stdout",
     "output_type": "stream",
     "text": [
      "HR\tMAP\tHR1\tMAP1\n",
      "g \t h \t g \t ggffggghhggfghggffecbefddhghfeebceeaceeedddeeehecdfhhgghgccdeeeaaffeaagfghefdfedbdddbbfdghhfdedcbccccbbbbdedeedcaaaaaaaaaah\n",
      "g \t h \t g \t ggffggghhggfghggffecbefddhghfeebceeaceeedddeeehecdfhhgghgccdeeeaaffeaagfghefdfedbdddbbfdghhfdedcbccccbbbbdedeedcaaaaaaaaaah\n",
      "h \t h \t h \t ggffggghhggfghggffecbefddhghfeebceeaceeedddeeehecdfhhgghgccdeeeaaffeaagfghefdfedbdddbbfdghhfdedcbccccbbbbdedeedcaaaaaaaaaah\n",
      "h \t e \t h \t ggffggghhggfghggffecbefddhghfeebceeaceeedddeeehecdfhhgghgccdeeeaaffeaagfghefdfedbdddbbfdghhfdedcbccccbbbbdedeedcaaaaaaaaaah\n",
      "h \t d \t h \t ggffggghhggfghggffecbefddhghfeebceeaceeedddeeehecdfhhgghgccdeeeaaffeaagfghefdfedbdddbbfdghhfdedcbccccbbbbdedeedcaaaaaaaaaah\n",
      "g \t e \t g \t ggffggghhggfghggffecbefddhghfeebceeaceeedddeeehecdfhhgghgccdeeeaaffeaagfghefdfedbdddbbfdghhfdedcbccccbbbbdedeedcaaaaaaaaaah\n",
      "h \t a \t h \t ggffggghhggfghggffecbefddhghfeebceeaceeedddeeehecdfhhgghgccdeeeaaffeaagfghefdfedbdddbbfdghhfdedcbccccbbbbdedeedcaaaaaaaaaah\n",
      "h \t d \t h \t ggffggghhggfghggffecbefddhghfeebceeaceeedddeeehecdfhhgghgccdeeeaaffeaagfghefdfedbdddbbfdghhfdedcbccccbbbbdedeedcaaaaaaaaaah\n",
      "h \t c \t h \t ggffggghhggfghggffecbefddhghfeebceeaceeedddeeehecdfhhgghgccdeeeaaffeaagfghefdfedbdddbbfdghhfdedcbccccbbbbdedeedcaaaaaaaaaah\n",
      "f \t b \t f \t ggffggghhggfghggffecbefddhghfeebceeaceeedddeeehecdfhhgghgccdeeeaaffeaagfghefdfedbdddbbfdghhfdedcbccccbbbbdedeedcaaaaaaaaaah\n",
      "b \t c \t b \t ggffggghhggfghggffecbefddhghfeebceeaceeedddeeehecdfhhgghgccdeeeaaffeaagfghefdfedbdddbbfdghhfdedcbccccbbbbdedeedcaaaaaaaaaah\n",
      "a \t d \t a \t ggffggghhggfghggffecbefddhghfeebceeaceeedddeeehecdfhhgghgccdeeeaaffeaagfghefdfedbdddbbfdghhfdedcbccccbbbbdedeedcaaaaaaaaaah\n",
      "a \t d \t a \t ggffggghhggfghggffecbefddhghfeebceeaceeedddeeehecdfhhgghgccdeeeaaffeaagfghefdfedbdddbbfdghhfdedcbccccbbbbdedeedcaaaaaaaaaah\n",
      "a \t e \t a \t ggffggghhggfghggffecbefddhghfeebceeaceeedddeeehecdfhhgghgccdeeeaaffeaagfghefdfedbdddbbfdghhfdedcbccccbbbbdedeedcaaaaaaaaaah\n",
      "a \t e \t a \t ggffggghhggfghggffecbefddhghfeebceeaceeedddeeehecdfhhgghgccdeeeaaffeaagfghefdfedbdddbbfdghhfdedcbccccbbbbdedeedcaaaaaaaaaah\n",
      "a \t d \t a \t ggffggghhggfghggffecbefddhghfeebceeaceeedddeeehecdfhhgghgccdeeeaaffeaagfghefdfedbdddbbfdghhfdedcbccccbbbbdedeedcaaaaaaaaaah\n",
      "a \t e \t a \t ggffggghhggfghggffecbefddhghfeebceeaceeedddeeehecdfhhgghgccdeeeaaffeaagfghefdfedbdddbbfdghhfdedcbccccbbbbdedeedcaaaaaaaaaah\n",
      "a \t c \t a \t ggffggghhggfghggffecbefddhghfeebceeaceeedddeeehecdfhhgghgccdeeeaaffeaagfghefdfedbdddbbfdghhfdedcbccccbbbbdedeedcaaaaaaaaaah\n",
      "a \t b \t a \t ggffggghhggfghggffecbefddhghfeebceeaceeedddeeehecdfhhgghgccdeeeaaffeaagfghefdfedbdddbbfdghhfdedcbccccbbbbdedeedcaaaaaaaaaah\n",
      "a \t a \t a \t ggffggghhggfghggffecbefddhghfeebceeaceeedddeeehecdfhhgghgccdeeeaaffeaagfghefdfedbdddbbfdghhfdedcbccccbbbbdedeedcaaaaaaaaaah\n",
      "a \t b \t a \t ggffggghhggfghggffecbefddhghfeebceeaceeedddeeehecdfhhgghgccdeeeaaffeaagfghefdfedbdddbbfdghhfdedcbccccbbbbdedeedcaaaaaaaaaah\n",
      "a \t a \t a \t ggffggghhggfghggffecbefddhghfeebceeaceeedddeeehecdfhhgghgccdeeeaaffeaagfghefdfedbdddbbfdghhfdedcbccccbbbbdedeedcaaaaaaaaaah\n",
      "a \t a \t a \t ggffggghhggfghggffecbefddhghfeebceeaceeedddeeehecdfhhgghgccdeeeaaffeaagfghefdfedbdddbbfdghhfdedcbccccbbbbdedeedcaaaaaaaaaah\n",
      "a \t a \t a \t ggffggghhggfghggffecbefddhghfeebceeaceeedddeeehecdfhhgghgccdeeeaaffeaagfghefdfedbdddbbfdghhfdedcbccccbbbbdedeedcaaaaaaaaaah\n",
      "a \t a \t a \t ggffggghhggfghggffecbefddhghfeebceeaceeedddeeehecdfhhgghgccdeeeaaffeaagfghefdfedbdddbbfdghhfdedcbccccbbbbdedeedcaaaaaaaaaah\n",
      "a \t a \t a \t ggffggghhggfghggffecbefddhghfeebceeaceeedddeeehecdfhhgghgccdeeeaaffeaagfghefdfedbdddbbfdghhfdedcbccccbbbbdedeedcaaaaaaaaaah\n",
      "a \t a \t a \t ggffggghhggfghggffecbefddhghfeebceeaceeedddeeehecdfhhgghgccdeeeaaffeaagfghefdfedbdddbbfdghhfdedcbccccbbbbdedeedcaaaaaaaaaah\n",
      "a \t a \t a \t ggffggghhggfghggffecbefddhghfeebceeaceeedddeeehecdfhhgghgccdeeeaaffeaagfghefdfedbdddbbfdghhfdedcbccccbbbbdedeedcaaaaaaaaaah\n",
      "b \t a \t b \t ggffggghhggfghggffecbefddhghfeebceeaceeedddeeehecdfhhgghgccdeeeaaffeaagfghefdfedbdddbbfdghhfdedcbccccbbbbdedeedcaaaaaaaaaah\n",
      "b \t a \t b \t ggffggghhggfghggffecbefddhghfeebceeaceeedddeeehecdfhhgghgccdeeeaaffeaagfghefdfedbdddbbfdghhfdedcbccccbbbbdedeedcaaaaaaaaaah\n",
      "b \t a \t b \t ggffggghhggfghggffecbefddhghfeebceeaceeedddeeehecdfhhgghgccdeeeaaffeaagfghefdfedbdddbbfdghhfdedcbccccbbbbdedeedcaaaaaaaaaah\n",
      "a \t a \t a \t ggffggghhggfghggffecbefddhghfeebceeaceeedddeeehecdfhhgghgccdeeeaaffeaagfghefdfedbdddbbfdghhfdedcbccccbbbbdedeedcaaaaaaaaaah\n",
      "b \t a \t b \t ggffggghhggfghggffecbefddhghfeebceeaceeedddeeehecdfhhgghgccdeeeaaffeaagfghefdfedbdddbbfdghhfdedcbccccbbbbdedeedcaaaaaaaaaah\n",
      "b \t b \t b \t ggffggghhggfghggffecbefddhghfeebceeaceeedddeeehecdfhhgghgccdeeeaaffeaagfghefdfedbdddbbfdghhfdedcbccccbbbbdedeedcaaaaaaaaaah\n",
      "b \t a \t b \t ggffggghhggfghggffecbefddhghfeebceeaceeedddeeehecdfhhgghgccdeeeaaffeaagfghefdfedbdddbbfdghhfdedcbccccbbbbdedeedcaaaaaaaaaah\n",
      "b \t b \t b \t ggffggghhggfghggffecbefddhghfeebceeaceeedddeeehecdfhhgghgccdeeeaaffeaagfghefdfedbdddbbfdghhfdedcbccccbbbbdedeedcaaaaaaaaaah\n",
      "b \t a \t b \t ggffggghhggfghggffecbefddhghfeebceeaceeedddeeehecdfhhgghgccdeeeaaffeaagfghefdfedbdddbbfdghhfdedcbccccbbbbdedeedcaaaaaaaaaah\n",
      "b \t b \t b \t ggffggghhggfghggffecbefddhghfeebceeaceeedddeeehecdfhhgghgccdeeeaaffeaagfghefdfedbdddbbfdghhfdedcbccccbbbbdedeedcaaaaaaaaaah\n",
      "b \t b \t b \t ggffggghhggfghggffecbefddhghfeebceeaceeedddeeehecdfhhgghgccdeeeaaffeaagfghefdfedbdddbbfdghhfdedcbccccbbbbdedeedcaaaaaaaaaah\n",
      "a \t a \t a \t ggffggghhggfghggffecbefddhghfeebceeaceeedddeeehecdfhhgghgccdeeeaaffeaagfghefdfedbdddbbfdghhfdedcbccccbbbbdedeedcaaaaaaaaaah\n",
      "a \t b \t a \t ggffggghhggfghggffecbefddhghfeebceeaceeedddeeehecdfhhgghgccdeeeaaffeaagfghefdfedbdddbbfdghhfdedcbccccbbbbdedeedcaaaaaaaaaah\n",
      "c \t b \t c \t ggffggghhggfghggffecbefddhghfeebceeaceeedddeeehecdfhhgghgccdeeeaaffeaagfghefdfedbdddbbfdghhfdedcbccccbbbbdedeedcaaaaaaaaaah\n",
      "b \t c \t b \t ggffggghhggfghggffecbefddhghfeebceeaceeedddeeehecdfhhgghgccdeeeaaffeaagfghefdfedbdddbbfdghhfdedcbccccbbbbdedeedcaaaaaaaaaah\n",
      "b \t b \t b \t ggffggghhggfghggffecbefddhghfeebceeaceeedddeeehecdfhhgghgccdeeeaaffeaagfghefdfedbdddbbfdghhfdedcbccccbbbbdedeedcaaaaaaaaaah\n",
      "d \t c \t d \t ggffggghhggfghggffecbefddhghfeebceeaceeedddeeehecdfhhgghgccdeeeaaffeaagfghefdfedbdddbbfdghhfdedcbccccbbbbdedeedcaaaaaaaaaah\n",
      "e \t a \t e \t ggffggghhggfghggffecbefddhghfeebceeaceeedddeeehecdfhhgghgccdeeeaaffeaagfghefdfedbdddbbfdghhfdedcbccccbbbbdedeedcaaaaaaaaaah\n",
      "d \t b \t d \t ggffggghhggfghggffecbefddhghfeebceeaceeedddeeehecdfhhgghgccdeeeaaffeaagfghefdfedbdddbbfdghhfdedcbccccbbbbdedeedcaaaaaaaaaah\n",
      "e \t c \t e \t ggffggghhggfghggffecbefddhghfeebceeaceeedddeeehecdfhhgghgccdeeeaaffeaagfghefdfedbdddbbfdghhfdedcbccccbbbbdedeedcaaaaaaaaaah\n",
      "e \t c \t e \t ggffggghhggfghggffecbefddhghfeebceeaceeedddeeehecdfhhgghgccdeeeaaffeaagfghefdfedbdddbbfdghhfdedcbccccbbbbdedeedcaaaaaaaaaah\n",
      "e \t b \t e \t ggffggghhggfghggffecbefddhghfeebceeaceeedddeeehecdfhhgghgccdeeeaaffeaagfghefdfedbdddbbfdghhfdedcbccccbbbbdedeedcaaaaaaaaaah\n",
      "e \t d \t e \t ggffggghhggfghggffecbefddhghfeebceeaceeedddeeehecdfhhgghgccdeeeaaffeaagfghefdfedbdddbbfdghhfdedcbccccbbbbdedeedcaaaaaaaaaah\n",
      "e \t d \t e \t ggffggghhggfghggffecbefddhghfeebceeaceeedddeeehecdfhhgghgccdeeeaaffeaagfghefdfedbdddbbfdghhfdedcbccccbbbbdedeedcaaaaaaaaaah\n",
      "f \t e \t f \t ggffggghhggfghggffecbefddhghfeebceeaceeedddeeehecdfhhgghgccdeeeaaffeaagfghefdfedbdddbbfdghhfdedcbccccbbbbdedeedcaaaaaaaaaah\n",
      "d \t b \t d \t ggffggghhggfghggffecbefddhghfeebceeaceeedddeeehecdfhhgghgccdeeeaaffeaagfghefdfedbdddbbfdghhfdedcbccccbbbbdedeedcaaaaaaaaaah\n",
      "c \t b \t c \t ggffggghhggfghggffecbefddhghfeebceeaceeedddeeehecdfhhgghgccdeeeaaffeaagfghefdfedbdddbbfdghhfdedcbccccbbbbdedeedcaaaaaaaaaah\n",
      "d \t b \t d \t ggffggghhggfghggffecbefddhghfeebceeaceeedddeeehecdfhhgghgccdeeeaaffeaagfghefdfedbdddbbfdghhfdedcbccccbbbbdedeedcaaaaaaaaaah\n",
      "d \t b \t d \t ggffggghhggfghggffecbefddhghfeebceeaceeedddeeehecdfhhgghgccdeeeaaffeaagfghefdfedbdddbbfdghhfdedcbccccbbbbdedeedcaaaaaaaaaah\n",
      "e \t c \t e \t ggffggghhggfghggffecbefddhghfeebceeaceeedddeeehecdfhhgghgccdeeeaaffeaagfghefdfedbdddbbfdghhfdedcbccccbbbbdedeedcaaaaaaaaaah\n",
      "f \t d \t f \t ggffggghhggfghggffecbefddhghfeebceeaceeedddeeehecdfhhgghgccdeeeaaffeaagfghefdfedbdddbbfdghhfdedcbccccbbbbdedeedcaaaaaaaaaah\n",
      "c \t b \t c \t ggffggghhggfghggffecbefddhghfeebceeaceeedddeeehecdfhhgghgccdeeeaaffeaagfghefdfedbdddbbfdghhfdedcbccccbbbbdedeedcaaaaaaaaaah\n",
      "c \t b \t c \t ggffggghhggfghggffecbefddhghfeebceeaceeedddeeehecdfhhgghgccdeeeaaffeaagfghefdfedbdddbbfdghhfdedcbccccbbbbdedeedcaaaaaaaaaah\n"
     ]
    },
    {
     "name": "stdout",
     "output_type": "stream",
     "text": [
      "c \t b \t c \t ggffggghhggfghggffecbefddhghfeebceeaceeedddeeehecdfhhgghgccdeeeaaffeaagfghefdfedbdddbbfdghhfdedcbccccbbbbdedeedcaaaaaaaaaah\n",
      "d \t e \t d \t ggffggghhggfghggffecbefddhghfeebceeaceeedddeeehecdfhhgghgccdeeeaaffeaagfghefdfedbdddbbfdghhfdedcbccccbbbbdedeedcaaaaaaaaaah\n",
      "e \t c \t e \t ggffggghhggfghggffecbefddhghfeebceeaceeedddeeehecdfhhgghgccdeeeaaffeaagfghefdfedbdddbbfdghhfdedcbccccbbbbdedeedcaaaaaaaaaah\n",
      "f \t f \t f \t ggffggghhggfghggffecbefddhghfeebceeaceeedddeeehecdfhhgghgccdeeeaaffeaagfghefdfedbdddbbfdghhfdedcbccccbbbbdedeedcaaaaaaaaaah\n",
      "f \t d \t f \t ggffggghhggfghggffecbefddhghfeebceeaceeedddeeehecdfhhgghgccdeeeaaffeaagfghefdfedbdddbbfdghhfdedcbccccbbbbdedeedcaaaaaaaaaah\n",
      "e \t d \t e \t ggffggghhggfghggffecbefddhghfeebceeaceeedddeeehecdfhhgghgccdeeeaaffeaagfghefdfedbdddbbfdghhfdedcbccccbbbbdedeedcaaaaaaaaaah\n",
      "e \t e \t e \t ggffggghhggfghggffecbefddhghfeebceeaceeedddeeehecdfhhgghgccdeeeaaffeaagfghefdfedbdddbbfdghhfdedcbccccbbbbdedeedcaaaaaaaaaah\n",
      "e \t e \t e \t ggffggghhggfghggffecbefddhghfeebceeaceeedddeeehecdfhhgghgccdeeeaaffeaagfghefdfedbdddbbfdghhfdedcbccccbbbbdedeedcaaaaaaaaaah\n",
      "f \t g \t f \t ggffggghhggfghggffecbefddhghfeebceeaceeedddeeehecdfhhgghgccdeeeaaffeaagfghefdfedbdddbbfdghhfdedcbccccbbbbdedeedcaaaaaaaaaah\n",
      "f \t g \t f \t ggffggghhggfghggffecbefddhghfeebceeaceeedddeeehecdfhhgghgccdeeeaaffeaagfghefdfedbdddbbfdghhfdedcbccccbbbbdedeedcaaaaaaaaaah\n",
      "f \t d \t f \t ggffggghhggfghggffecbefddhghfeebceeaceeedddeeehecdfhhgghgccdeeeaaffeaagfghefdfedbdddbbfdghhfdedcbccccbbbbdedeedcaaaaaaaaaah\n",
      "e \t e \t e \t ggffggghhggfghggffecbefddhghfeebceeaceeedddeeehecdfhhgghgccdeeeaaffeaagfghefdfedbdddbbfdghhfdedcbccccbbbbdedeedcaaaaaaaaaah\n",
      "e \t d \t e \t ggffggghhggfghggffecbefddhghfeebceeaceeedddeeehecdfhhgghgccdeeeaaffeaagfghefdfedbdddbbfdghhfdedcbccccbbbbdedeedcaaaaaaaaaah\n",
      "d \t d \t d \t ggffggghhggfghggffecbefddhghfeebceeaceeedddeeehecdfhhgghgccdeeeaaffeaagfghefdfedbdddbbfdghhfdedcbccccbbbbdedeedcaaaaaaaaaah\n",
      "c \t d \t c \t ggffggghhggfghggffecbefddhghfeebceeaceeedddeeehecdfhhgghgccdeeeaaffeaagfghefdfedbdddbbfdghhfdedcbccccbbbbdedeedcaaaaaaaaaah\n",
      "c \t e \t c \t ggffggghhggfghggffecbefddhghfeebceeaceeedddeeehecdfhhgghgccdeeeaaffeaagfghefdfedbdddbbfdghhfdedcbccccbbbbdedeedcaaaaaaaaaah\n",
      "e \t g \t e \t ggffggghhggfghggffecbefddhghfeebceeaceeedddeeehecdfhhgghgccdeeeaaffeaagfghefdfedbdddbbfdghhfdedcbccccbbbbdedeedcaaaaaaaaaah\n",
      "e \t g \t e \t ggffggghhggfghggffecbefddhghfeebceeaceeedddeeehecdfhhgghgccdeeeaaffeaagfghefdfedbdddbbfdghhfdedcbccccbbbbdedeedcaaaaaaaaaah\n",
      "g \t h \t g \t ggffggghhggfghggffecbefddhghfeebceeaceeedddeeehecdfhhgghgccdeeeaaffeaagfghefdfedbdddbbfdghhfdedcbccccbbbbdedeedcaaaaaaaaaah\n",
      "g \t g \t g \t ggffggghhggfghggffecbefddhghfeebceeaceeedddeeehecdfhhgghgccdeeeaaffeaagfghefdfedbdddbbfdghhfdedcbccccbbbbdedeedcaaaaaaaaaah\n",
      "e \t d \t e \t ggffggghhggfghggffecbefddhghfeebceeaceeedddeeehecdfhhgghgccdeeeaaffeaagfghefdfedbdddbbfdghhfdedcbccccbbbbdedeedcaaaaaaaaaah\n",
      "d \t d \t d \t ggffggghhggfghggffecbefddhghfeebceeaceeedddeeehecdfhhgghgccdeeeaaffeaagfghefdfedbdddbbfdghhfdedcbccccbbbbdedeedcaaaaaaaaaah\n",
      "f \t h \t f \t ggffggghhggfghggffecbefddhghfeebceeaceeedddeeehecdfhhgghgccdeeeaaffeaagfghefdfedbdddbbfdghhfdedcbccccbbbbdedeedcaaaaaaaaaah\n",
      "g \t h \t g \t ggffggghhggfghggffecbefddhghfeebceeaceeedddeeehecdfhhgghgccdeeeaaffeaagfghefdfedbdddbbfdghhfdedcbccccbbbbdedeedcaaaaaaaaaah\n",
      "h \t h \t h \t ggffggghhggfghggffecbefddhghfeebceeaceeedddeeehecdfhhgghgccdeeeaaffeaagfghefdfedbdddbbfdghhfdedcbccccbbbbdedeedcaaaaaaaaaah\n",
      "f \t f \t f \t ggffggghhggfghggffecbefddhghfeebceeaceeedddeeehecdfhhgghgccdeeeaaffeaagfghefdfedbdddbbfdghhfdedcbccccbbbbdedeedcaaaaaaaaaah\n",
      "e \t g \t e \t ggffggghhggfghggffecbefddhghfeebceeaceeedddeeehecdfhhgghgccdeeeaaffeaagfghefdfedbdddbbfdghhfdedcbccccbbbbdedeedcaaaaaaaaaah\n",
      "e \t f \t e \t ggffggghhggfghggffecbefddhghfeebceeaceeedddeeehecdfhhgghgccdeeeaaffeaagfghefdfedbdddbbfdghhfdedcbccccbbbbdedeedcaaaaaaaaaah\n",
      "e \t f \t e \t ggffggghhggfghggffecbefddhghfeebceeaceeedddeeehecdfhhgghgccdeeeaaffeaagfghefdfedbdddbbfdghhfdedcbccccbbbbdedeedcaaaaaaaaaah\n",
      "d \t d \t d \t ggffggghhggfghggffecbefddhghfeebceeaceeedddeeehecdfhhgghgccdeeeaaffeaagfghefdfedbdddbbfdghhfdedcbccccbbbbdedeedcaaaaaaaaaah\n",
      "c \t d \t c \t ggffggghhggfghggffecbefddhghfeebceeaceeedddeeehecdfhhgghgccdeeeaaffeaagfghefdfedbdddbbfdghhfdedcbccccbbbbdedeedcaaaaaaaaaah\n",
      "d \t g \t d \t ggffggghhggfghggffecbefddhghfeebceeaceeedddeeehecdfhhgghgccdeeeaaffeaagfghefdfedbdddbbfdghhfdedcbccccbbbbdedeedcaaaaaaaaaah\n",
      "d \t e \t d \t ggffggghhggfghggffecbefddhghfeebceeaceeedddeeehecdfhhgghgccdeeeaaffeaagfghefdfedbdddbbfdghhfdedcbccccbbbbdedeedcaaaaaaaaaah\n",
      "d \t g \t d \t ggffggghhggfghggffecbefddhghfeebceeaceeedddeeehecdfhhgghgccdeeeaaffeaagfghefdfedbdddbbfdghhfdedcbccccbbbbdedeedcaaaaaaaaaah\n",
      "e \t h \t e \t ggffggghhggfghggffecbefddhghfeebceeaceeedddeeehecdfhhgghgccdeeeaaffeaagfghefdfedbdddbbfdghhfdedcbccccbbbbdedeedcaaaaaaaaaah\n",
      "d \t g \t d \t ggffggghhggfghggffecbefddhghfeebceeaceeedddeeehecdfhhgghgccdeeeaaffeaagfghefdfedbdddbbfdghhfdedcbccccbbbbdedeedcaaaaaaaaaah\n",
      "g \t h \t g \t ggffggghhggfghggffecbefddhghfeebceeaceeedddeeehecdfhhgghgccdeeeaaffeaagfghefdfedbdddbbfdghhfdedcbccccbbbbdedeedcaaaaaaaaaah\n",
      "g \t h \t g \t ggffggghhggfghggffecbefddhghfeebceeaceeedddeeehecdfhhgghgccdeeeaaffeaagfghefdfedbdddbbfdghhfdedcbccccbbbbdedeedcaaaaaaaaaah\n",
      "g \t h \t g \t ggffggghhggfghggffecbefddhghfeebceeaceeedddeeehecdfhhgghgccdeeeaaffeaagfghefdfedbdddbbfdghhfdedcbccccbbbbdedeedcaaaaaaaaaah\n",
      "g \t h \t g \t ggffggghhggfghggffecbefddhghfeebceeaceeedddeeehecdfhhgghgccdeeeaaffeaagfghefdfedbdddbbfdghhfdedcbccccbbbbdedeedcaaaaaaaaaah\n",
      "g \t h \t g \t ggffggghhggfghggffecbefddhghfeebceeaceeedddeeehecdfhhgghgccdeeeaaffeaagfghefdfedbdddbbfdghhfdedcbccccbbbbdedeedcaaaaaaaaaah\n",
      "h \t h \t h \t ggffggghhggfghggffecbefddhghfeebceeaceeedddeeehecdfhhgghgccdeeeaaffeaagfghefdfedbdddbbfdghhfdedcbccccbbbbdedeedcaaaaaaaaaah\n",
      "h \t h \t h \t ggffggghhggfghggffecbefddhghfeebceeaceeedddeeehecdfhhgghgccdeeeaaffeaagfghefdfedbdddbbfdghhfdedcbccccbbbbdedeedcaaaaaaaaaah\n",
      "h \t h \t h \t ggffggghhggfghggffecbefddhghfeebceeaceeedddeeehecdfhhgghgccdeeeaaffeaagfghefdfedbdddbbfdghhfdedcbccccbbbbdedeedcaaaaaaaaaah\n",
      "h \t g \t h \t ggffggghhggfghggffecbefddhghfeebceeaceeedddeeehecdfhhgghgccdeeeaaffeaagfghefdfedbdddbbfdghhfdedcbccccbbbbdedeedcaaaaaaaaaah\n",
      "h \t h \t h \t ggffggghhggfghggffecbefddhghfeebceeaceeedddeeehecdfhhgghgccdeeeaaffeaagfghefdfedbdddbbfdghhfdedcbccccbbbbdedeedcaaaaaaaaaah\n",
      "g \t e \t g \t ggffggghhggfghggffecbefddhghfeebceeaceeedddeeehecdfhhgghgccdeeeaaffeaagfghefdfedbdddbbfdghhfdedcbccccbbbbdedeedcaaaaaaaaaah\n",
      "g \t e \t g \t ggffggghhggfghggffecbefddhghfeebceeaceeedddeeehecdfhhgghgccdeeeaaffeaagfghefdfedbdddbbfdghhfdedcbccccbbbbdedeedcaaaaaaaaaah\n",
      "h \t h \t h \t ggffggghhggfghggffecbefddhghfeebceeaceeedddeeehecdfhhgghgccdeeeaaffeaagfghefdfedbdddbbfdghhfdedcbccccbbbbdedeedcaaaaaaaaaah\n",
      "h \t f \t h \t ggffggghhggfghggffecbefddhghfeebceeaceeedddeeehecdfhhgghgccdeeeaaffeaagfghefdfedbdddbbfdghhfdedcbccccbbbbdedeedcaaaaaaaaaah\n",
      "g \t f \t g \t ggffggghhggfghggffecbefddhghfeebceeaceeedddeeehecdfhhgghgccdeeeaaffeaagfghefdfedbdddbbfdghhfdedcbccccbbbbdedeedcaaaaaaaaaah\n",
      "g \t e \t g \t ggffggghhggfghggffecbefddhghfeebceeaceeedddeeehecdfhhgghgccdeeeaaffeaagfghefdfedbdddbbfdghhfdedcbccccbbbbdedeedcaaaaaaaaaah\n",
      "g \t g \t g \t ggffggghhggfghggffecbefddhghfeebceeaceeedddeeehecdfhhgghgccdeeeaaffeaagfghefdfedbdddbbfdghhfdedcbccccbbbbdedeedcaaaaaaaaaah\n",
      "h \t h \t h \t ggffggghhggfghggffecbefddhghfeebceeaceeedddeeehecdfhhgghgccdeeeaaffeaagfghefdfedbdddbbfdghhfdedcbccccbbbbdedeedcaaaaaaaaaah\n",
      "h \t g \t h \t ggffggghhggfghggffecbefddhghfeebceeaceeedddeeehecdfhhgghgccdeeeaaffeaagfghefdfedbdddbbfdghhfdedcbccccbbbbdedeedcaaaaaaaaaah\n",
      "g \t g \t g \t ggffggghhggfghggffecbefddhghfeebceeaceeedddeeehecdfhhgghgccdeeeaaffeaagfghefdfedbdddbbfdghhfdedcbccccbbbbdedeedcaaaaaaaaaah\n",
      "c \t d \t c \t ggffggghhggfghggffecbefddhghfeebceeaceeedddeeehecdfhhgghgccdeeeaaffeaagfghefdfedbdddbbfdghhfdedcbccccbbbbdedeedcaaaaaaaaaah\n",
      "c \t d \t c \t ggffggghhggfghggffecbefddhghfeebceeaceeedddeeehecdfhhgghgccdeeeaaffeaagfghefdfedbdddbbfdghhfdedcbccccbbbbdedeedcaaaaaaaaaah\n",
      "e \t e \t e \t ggffggghhggfghggffecbefddhghfeebceeaceeedddeeehecdfhhgghgccdeeeaaffeaagfghefdfedbdddbbfdghhfdedcbccccbbbbdedeedcaaaaaaaaaah\n",
      "e \t f \t e \t ggffggghhggfghggffecbefddhghfeebceeaceeedddeeehecdfhhgghgccdeeeaaffeaagfghefdfedbdddbbfdghhfdedcbccccbbbbdedeedcaaaaaaaaaah\n",
      "f \t f \t f \t ggffggghhggfghggffecbefddhghfeebceeaceeedddeeehecdfhhgghgccdeeeaaffeaagfghefdfedbdddbbfdghhfdedcbccccbbbbdedeedcaaaaaaaaaah\n"
     ]
    },
    {
     "name": "stdout",
     "output_type": "stream",
     "text": [
      "e \t f \t e \t ggffggghhggfghggffecbefddhghfeebceeaceeedddeeehecdfhhgghgccdeeeaaffeaagfghefdfedbdddbbfdghhfdedcbccccbbbbdedeedcaaaaaaaaaah\n"
     ]
    }
   ],
   "source": [
    "# Loops paa_size times, using an integer as index.\n",
    "print(\"HR\\tMAP\\tHR1\\tMAP1\")\n",
    "\n",
    "# Starts the pyo sound player\n",
    "s.start()\n",
    "\n",
    "for x in range(0, paa_size):\n",
    "    # Prints the SAX letter for both strings.\n",
    "    print(HR_SAX[x], \"\\t\", MAP_SAX[x],\"\\t\", HR1_SAX[x], \"\\t\", MAP1_SAX)\n",
    "    \n",
    "    # Determine the correct note for HR_sound to play.\n",
    "    if HR_SAX[x] == \"a\":\n",
    "        HR_sound.setFreq(220) # A3\n",
    "    elif HR_SAX[x] == \"b\":\n",
    "        HR_sound.setFreq(246.94) # B3\n",
    "    elif HR_SAX[x] == \"c\":\n",
    "        HR_sound.setFreq(277.18) # C#4\n",
    "    elif HR_SAX[x] == \"d\":\n",
    "        HR_sound.setFreq(293.66) # D4\n",
    "    elif HR_SAX[x] == \"e\":\n",
    "        HR_sound.setFreq(329.63) # E4\n",
    "    elif HR_SAX[x] == \"f\":\n",
    "        HR_sound.setFreq(369.99) # F#4\n",
    "    elif HR_SAX[x] == \"g\":\n",
    "        HR_sound.setFreq(415.30) # G#4\n",
    "    else: # \"h\"\n",
    "        HR_sound.setFreq(440) # A4\n",
    "    \n",
    "    # Determine the correct note for MAP_sound to play.\n",
    "    if MAP_SAX[x] == \"a\":\n",
    "        MAP_sound.setFreq(440) # A4\n",
    "    elif MAP_SAX[x] == \"b\":\n",
    "        MAP_sound.setFreq(493.88) # B4\n",
    "    elif MAP_SAX[x] == \"c\":\n",
    "        MAP_sound.setFreq(554.37) # C#5\n",
    "    elif MAP_SAX[x] == \"d\":\n",
    "        MAP_sound.setFreq(587.33) # D5\n",
    "    elif MAP_SAX[x] == \"e\":\n",
    "        MAP_sound.setFreq(659.25) # E5\n",
    "    elif MAP_SAX[x] == \"f\":\n",
    "        MAP_sound.setFreq(739.99) # F#5\n",
    "    elif MAP_SAX[x] == \"g\":\n",
    "        MAP_sound.setFreq(830.61) # G#5\n",
    "    else: # \"h\"\n",
    "        MAP_sound.setFreq(880) # A5\n",
    "    \n",
    "    # Determine the correct note for HR1_sound to play\n",
    "    if HR1_SAX[x] == \"a\":\n",
    "        HR1_sound.setFreq(220) # A3\n",
    "    elif HR1_SAX[x] == \"b\":\n",
    "        HR1_sound.setFreq(246.94) # B3\n",
    "    elif HR1_SAX[x] == \"c\":\n",
    "        HR1_sound.setFreq(277.18) # C#4\n",
    "    elif HR1_SAX[x] == \"d\":\n",
    "        HR1_sound.setFreq(293.66) # D4\n",
    "    elif HR1_SAX[x] == \"e\":\n",
    "        HR1_sound.setFreq(329.63) # E4\n",
    "    elif HR1_SAX[x] == \"f\":\n",
    "        HR1_sound.setFreq(369.99) # F#4\n",
    "    elif HR1_SAX[x] == \"g\":\n",
    "        HR1_sound.setFreq(415.30) # G#4\n",
    "    else: # \"h\"\n",
    "        HR1_sound.setFreq(440) # A4\n",
    "        \n",
    "    # Determine the correct note for MAP1_sound to play\n",
    "    if MAP1_SAX[x] == \"a\":\n",
    "        MAP1_sound.setFreq(440) # A4\n",
    "    elif MAP1_SAX[x] == \"b\":\n",
    "        MAP1_sound.setFreq(493.88) # B4\n",
    "    elif MAP1_SAX[x] == \"c\":\n",
    "        MAP1_sound.setFreq(554.37) # C#5\n",
    "    elif MAP1_SAX[x] == \"d\":\n",
    "        MAP1_sound.setFreq(587.33) # D5\n",
    "    elif MAP1_SAX[x] == \"e\":\n",
    "        MAP1_sound.setFreq(659.25) # E5\n",
    "    elif MAP1_SAX[x] == \"f\":\n",
    "        MAP1_sound.setFreq(739.99) # F#5\n",
    "    elif MAP1_SAX[x] == \"g\":\n",
    "        MAP1_sound.setFreq(830.61) # G#5\n",
    "    else: # \"h\"\n",
    "        MAP1_sound.setFreq(880) # A5\n",
    "    \n",
    "    # Play HR_sound and MAP_sound at the same time.\n",
    "    time.sleep(0.5) #half a second\n",
    "\n",
    "# Stops the pyo sound player\n",
    "s.stop()"
   ]
  },
  {
   "cell_type": "code",
   "execution_count": null,
   "metadata": {},
   "outputs": [],
   "source": []
  }
 ],
 "metadata": {
  "kernelspec": {
   "display_name": "Python 3",
   "language": "python",
   "name": "python3"
  },
  "language_info": {
   "codemirror_mode": {
    "name": "ipython",
    "version": 3
   },
   "file_extension": ".py",
   "mimetype": "text/x-python",
   "name": "python",
   "nbconvert_exporter": "python",
   "pygments_lexer": "ipython3",
   "version": "3.8.5"
  }
 },
 "nbformat": 4,
 "nbformat_minor": 4
}

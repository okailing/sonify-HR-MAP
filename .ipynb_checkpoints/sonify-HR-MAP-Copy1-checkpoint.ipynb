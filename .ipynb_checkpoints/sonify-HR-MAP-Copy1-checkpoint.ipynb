{
 "cells": [
  {
   "cell_type": "markdown",
   "metadata": {},
   "source": [
    "# Otto Kailing -- Vital Sign Data Sonification"
   ]
  },
  {
   "cell_type": "markdown",
   "metadata": {},
   "source": [
    "## Setup"
   ]
  },
  {
   "cell_type": "code",
   "execution_count": 2,
   "metadata": {},
   "outputs": [
    {
     "name": "stdout",
     "output_type": "stream",
     "text": [
      "Requirement already satisfied: saxpy in /Users/reverie/opt/anaconda3/lib/python3.8/site-packages (1.0.1.dev167)\n",
      "Requirement already satisfied: numpy in /Users/reverie/opt/anaconda3/lib/python3.8/site-packages (from saxpy) (1.19.2)\n",
      "Requirement already satisfied: pytest-cov in /Users/reverie/opt/anaconda3/lib/python3.8/site-packages (from saxpy) (2.11.1)\n",
      "Requirement already satisfied: codecov in /Users/reverie/opt/anaconda3/lib/python3.8/site-packages (from saxpy) (2.1.11)\n",
      "Requirement already satisfied: pytest in /Users/reverie/opt/anaconda3/lib/python3.8/site-packages (from saxpy) (0.0.0)\n",
      "Requirement already satisfied: coverage>=5.2.1 in /Users/reverie/opt/anaconda3/lib/python3.8/site-packages (from pytest-cov->saxpy) (5.5)\n",
      "Requirement already satisfied: requests>=2.7.9 in /Users/reverie/opt/anaconda3/lib/python3.8/site-packages (from codecov->saxpy) (2.24.0)\n",
      "Requirement already satisfied: attrs>=17.4.0 in /Users/reverie/opt/anaconda3/lib/python3.8/site-packages (from pytest->saxpy) (20.3.0)\n",
      "Requirement already satisfied: iniconfig in /Users/reverie/opt/anaconda3/lib/python3.8/site-packages (from pytest->saxpy) (1.1.1)\n",
      "Requirement already satisfied: packaging in /Users/reverie/opt/anaconda3/lib/python3.8/site-packages (from pytest->saxpy) (20.4)\n",
      "Requirement already satisfied: pluggy<1.0,>=0.12 in /Users/reverie/opt/anaconda3/lib/python3.8/site-packages (from pytest->saxpy) (0.13.1)\n",
      "Requirement already satisfied: py>=1.8.2 in /Users/reverie/opt/anaconda3/lib/python3.8/site-packages (from pytest->saxpy) (1.9.0)\n",
      "Requirement already satisfied: toml in /Users/reverie/opt/anaconda3/lib/python3.8/site-packages (from pytest->saxpy) (0.10.1)\n",
      "Requirement already satisfied: certifi>=2017.4.17 in /Users/reverie/opt/anaconda3/lib/python3.8/site-packages (from requests>=2.7.9->codecov->saxpy) (2020.6.20)\n",
      "Requirement already satisfied: idna<3,>=2.5 in /Users/reverie/opt/anaconda3/lib/python3.8/site-packages (from requests>=2.7.9->codecov->saxpy) (2.10)\n",
      "Requirement already satisfied: chardet<4,>=3.0.2 in /Users/reverie/opt/anaconda3/lib/python3.8/site-packages (from requests>=2.7.9->codecov->saxpy) (3.0.4)\n",
      "Requirement already satisfied: urllib3!=1.25.0,!=1.25.1,<1.26,>=1.21.1 in /Users/reverie/opt/anaconda3/lib/python3.8/site-packages (from requests>=2.7.9->codecov->saxpy) (1.25.11)\n",
      "Requirement already satisfied: six in /Users/reverie/opt/anaconda3/lib/python3.8/site-packages (from packaging->pytest->saxpy) (1.15.0)\n",
      "Requirement already satisfied: pyparsing>=2.0.2 in /Users/reverie/opt/anaconda3/lib/python3.8/site-packages (from packaging->pytest->saxpy) (2.4.7)\n",
      "Requirement already satisfied: playsound in /Users/reverie/opt/anaconda3/lib/python3.8/site-packages (1.2.2)\n",
      "Requirement already satisfied: simpleaudio in /Users/reverie/opt/anaconda3/lib/python3.8/site-packages (1.0.4)\n",
      "Requirement already up-to-date: pyo in /Users/reverie/opt/anaconda3/lib/python3.8/site-packages (1.0.3)\n",
      "\n",
      "WxPython is not found for the current python version.\n",
      "Pyo will use a minimal GUI toolkit written with Tkinter (if available).\n",
      "This toolkit has limited functionnalities and is no more\n",
      "maintained or updated. If you want to use all of pyo's\n",
      "GUI features, you should install WxPython, available here:\n",
      "http://www.wxpython.org/\n",
      "\n"
     ]
    }
   ],
   "source": [
    "# Authors : Otto Kailing; Gian C. Rodríguez\n",
    "# Based on work by : José Constantino Sánchez Curet\n",
    "\n",
    "# Install the necessary things before importing\n",
    "!pip install saxpy\n",
    "!pip install playsound\n",
    "!pip install simpleaudio\n",
    "!pip install -U pyo\n",
    "\n",
    "# Importing libraries and required packages\n",
    "import numpy as np\n",
    "\n",
    "from saxpy.znorm import znorm              # to normalize the time series\n",
    "from saxpy.paa import paa                  # PAA\n",
    "from saxpy.sax import ts_to_string         # to convert the time series to string\n",
    "from saxpy.alphabet import cuts_for_asize  # alphabet size\n",
    "# from saxpy.sax import sax_via_window       # for smaller SAX words -- not currently used\n",
    "\n",
    "from pyo import *                              # actually can synthesize sound !!!!!!!!!\n",
    "import time\n",
    "\n",
    "import matplotlib.pyplot as plt\n",
    "\n",
    "import simpleaudio as sa                # basic sound playing package\n",
    "\n",
    "import csv                 # to be able to import .csv (and our .dat) files\n",
    "import pandas as pd        # for the readcsv function, to read in data"
   ]
  },
  {
   "cell_type": "markdown",
   "metadata": {},
   "source": [
    "## Working with two files at once"
   ]
  },
  {
   "cell_type": "code",
   "execution_count": 4,
   "metadata": {},
   "outputs": [
    {
     "name": "stdout",
     "output_type": "stream",
     "text": [
      "Length of HR file  = 3865 \n",
      "Length of HR1 file = 20698\n"
     ]
    }
   ],
   "source": [
    "# We are working with Otto's patients,working on heart rates.\n",
    "HR = pd.read_csv(\"data/HR_01.dat\", header = None)\n",
    "HR1 = pd.read_csv(\"data/HR_30.dat\", header = None)\n",
    "\n",
    "# Convert both to array of floats\n",
    "HR = HR[0]\n",
    "HR1 = HR1[0]\n",
    "\n",
    "# Verify that they're both the same length\n",
    "print(\"Length of HR file  =\", len(HR), \"\\nLength of HR1 file =\", len(HR1))"
   ]
  },
  {
   "cell_type": "code",
   "execution_count": 5,
   "metadata": {},
   "outputs": [],
   "source": [
    "# Create backup of raw data\n",
    "# !!!!!!!!!!!!! RERUNNING THIS CELL WILL DELETE THE BACKUP !!!!!!!!!!!!!\n",
    "HR_raw = HR\n",
    "HR1_raw = HR1"
   ]
  },
  {
   "cell_type": "code",
   "execution_count": 7,
   "metadata": {},
   "outputs": [
    {
     "data": {
      "image/png": "[encoded data removed]",
      "text/plain": [
       "<Figure size 432x288 with 1 Axes>"
      ]
     },
     "metadata": {
      "needs_background": "light"
     },
     "output_type": "display_data"
    }
   ],
   "source": [
    "# Plot both raw files on the same plot\n",
    "plt.plot(HR_raw, label = \"Heart Rate (bpm)\")\n",
    "plt.plot(HR1_raw, label = \"Heart Rate 1 (bpm)\")\n",
    "plt.title(\"Heart rates of different patients\")\n",
    "plt.xlabel(\"Time (minutes)\")\n",
    "plt.legend()\n",
    "plt.show()"
   ]
  },
  {
   "cell_type": "code",
   "execution_count": 8,
   "metadata": {},
   "outputs": [
    {
     "name": "stdout",
     "output_type": "stream",
     "text": [
      "PAA size = 48\n",
      "\n",
      "Post PAA:\n",
      "Length of HR  = 48 \n",
      "Length of HR1 = 48\n"
     ]
    }
   ],
   "source": [
    "# Normalize the data\n",
    "HR = znorm(HR)\n",
    "HR1 = znorm(HR1)\n",
    "\n",
    "# Define PAA size (divide by 80 is what Otto used in the summer 2020 project)\n",
    "#  * We want same PAA size for both files, so they end up the same length too\n",
    "#  * len(HR_raw) because this will not change. In contrast, the objects\n",
    "#    \"HR\" and \"MAP\" are being reassigned at every step.\n",
    "paa_size = int(len(HR_raw) / 80)\n",
    "print(\"PAA size =\", paa_size)\n",
    "\n",
    "if (paa_size != 0):\n",
    "    # Apply PAA to both files\n",
    "    HR = paa(HR, paa_size)\n",
    "    HR1 = paa(HR1, paa_size)\n",
    "    # NOTE: this should not cause any problems with rerunning. Asking to run a PAA\n",
    "    # of the post-PAA data with the same size should just regenerate the same data.\n",
    "    \n",
    "    # Verify that they're both the same length\n",
    "    print(\"\\nPost PAA:\\nLength of HR  =\", len(HR), \"\\nLength of HR1 =\", len(HR1))\n",
    "else:\n",
    "    print(\"Error: PAA size is 0; cannot divide by 0\")\n"
   ]
  },
  {
   "cell_type": "code",
   "execution_count": 10,
   "metadata": {},
   "outputs": [
    {
     "data": {
      "image/png": "[encoded data removed]",
      "text/plain": [
       "<Figure size 432x288 with 1 Axes>"
      ]
     },
     "metadata": {
      "needs_background": "light"
     },
     "output_type": "display_data"
    }
   ],
   "source": [
    "# Plot the files post PAA adjustment.\n",
    "plt.plot(HR, label = \"Heart Rate\")\n",
    "plt.plot(HR1, label = \"Heart rate 1\")\n",
    "plt.title(\"PAA of HR for different patients\")\n",
    "plt.xlabel(\"PAA divisions\")\n",
    "plt.legend()\n",
    "plt.show()"
   ]
  },
  {
   "cell_type": "markdown",
   "metadata": {},
   "source": [
    "### Making SAX strings"
   ]
  },
  {
   "cell_type": "code",
   "execution_count": 14,
   "metadata": {},
   "outputs": [
    {
     "name": "stdout",
     "output_type": "stream",
     "text": [
      "HR SAX:  ffggggghhhhhhhhhhgfedcbbbbbbcccccccddeedbbaaaaaa \n",
      "HR1 SAX: gfghgehhfggffeefeeeebabcbdfecceeedeefgggcaaaaaac\n"
     ]
    }
   ],
   "source": [
    "# Define SAX alphabet size\n",
    "asize = 8\n",
    "\n",
    "# Create SAX strings of the two objects\n",
    "HR_SAX = ts_to_string(HR, cuts_for_asize(asize))\n",
    "HR1_SAX = ts_to_string(HR1, cuts_for_asize(asize))\n",
    "\n",
    "# Prints the SAX strings\n",
    "print(\"HR SAX: \", HR_SAX, \"\\nHR1 SAX:\", HR1_SAX)"
   ]
  },
  {
   "cell_type": "markdown",
   "metadata": {},
   "source": [
    "## Testing newly duplicated files\n",
    "\n",
    "In the interest of comparing to the \"isHypo.m\" file, where the patients are numbered 1–58 to categorize them, I renamed the files in Finder. I will however execute "
   ]
  },
  {
   "cell_type": "code",
   "execution_count": null,
   "metadata": {},
   "outputs": [],
   "source": []
  },
  {
   "cell_type": "code",
   "execution_count": null,
   "metadata": {},
   "outputs": [],
   "source": []
  },
  {
   "cell_type": "markdown",
   "metadata": {},
   "source": [
    "# Code to see if we can hear a difference in patients\n",
    "\n",
    "Patients will be chosed randomly. This code will provide  us with the sound of each patient in harmony."
   ]
  },
  {
   "cell_type": "code",
   "execution_count": 21,
   "metadata": {},
   "outputs": [
    {
     "name": "stdout",
     "output_type": "stream",
     "text": [
      "Pyo warning: Portmidi warning: no midi device found!\n",
      "Portmidi closed.\n"
     ]
    }
   ],
   "source": [
    "#Server for pyo\n",
    "s = Server().boot()\n",
    "#HR_sound would be our default for our first \"Heart rate file\" comparison, HR1_sound would be the second heart rate.\n",
    "HR_sound = Sine(mul = 0.1).out()\n",
    "\n",
    "\n",
    "#HR1_sound code is more complex, i want to add a phaser effect to test pyo's fx library.\n",
    "\n",
    "HR1_sound = SineLoop(freq=[random.uniform(190,210) for i in range(50)],\n",
    "               feedback=0.1, mul=0.01)\n",
    "lfo = Sine(.25).range(200, 400)\n",
    "phs = Phaser(HR1_sound.mix(2), freq=lfo, q=10, feedback=0.40).out()\n",
    "\n"
   ]
  },
  {
   "cell_type": "markdown",
   "metadata": {},
   "source": [
    "Now we try our first test on two different heart rates at the same time."
   ]
  },
  {
   "cell_type": "code",
   "execution_count": 22,
   "metadata": {},
   "outputs": [
    {
     "name": "stdout",
     "output_type": "stream",
     "text": [
      "HR\tHR1\n",
      "f \t g\n",
      "f \t f\n",
      "g \t g\n",
      "g \t h\n",
      "g \t g\n",
      "g \t e\n",
      "g \t h\n",
      "h \t h\n",
      "h \t f\n",
      "h \t g\n",
      "h \t g\n",
      "h \t f\n",
      "h \t f\n",
      "h \t e\n",
      "h \t e\n",
      "h \t f\n",
      "h \t e\n",
      "g \t e\n",
      "f \t e\n",
      "e \t e\n",
      "d \t b\n",
      "c \t a\n",
      "b \t b\n",
      "b \t c\n",
      "b \t b\n",
      "b \t d\n",
      "b \t f\n",
      "b \t e\n",
      "c \t c\n",
      "c \t c\n",
      "c \t e\n",
      "c \t e\n",
      "c \t e\n",
      "c \t d\n",
      "c \t e\n",
      "d \t e\n",
      "d \t f\n",
      "e \t g\n",
      "e \t g\n",
      "d \t g\n",
      "b \t c\n",
      "b \t a\n",
      "a \t a\n",
      "a \t a\n",
      "a \t a\n",
      "a \t a\n",
      "a \t a\n",
      "a \t c\n"
     ]
    }
   ],
   "source": [
    "# Loops paa_size times, using an integer as index.\n",
    "print(\"HR\\tHR1\")\n",
    "\n",
    "# Starts the pyo sound player\n",
    "s.start()\n",
    "\n",
    "for x in range(0, paa_size):\n",
    "    # Prints the SAX letter for both strings.\n",
    "    print(HR_SAX[x], \"\\t\", HR1_SAX[x])\n",
    "    \n",
    "    # Determine the correct note for HR_sound to play.\n",
    "    if HR1_SAX[x] == \"a\":\n",
    "        HR1_sound.setFreq(220) # A3\n",
    "    elif HR1_SAX[x] == \"b\":\n",
    "        HR1_sound.setFreq(246.94) # B3\n",
    "    elif HR1_SAX[x] == \"c\":\n",
    "        HR1_sound.setFreq(277.18) # C#4\n",
    "    elif HR1_SAX[x] == \"d\":\n",
    "        HR1_sound.setFreq(293.66) # D4\n",
    "    elif HR1_SAX[x] == \"e\":\n",
    "        HR1_sound.setFreq(329.63) # E4\n",
    "    elif HR1_SAX[x] == \"f\":\n",
    "        HR1_sound.setFreq(369.99) # F#4\n",
    "    elif HR1_SAX[x] == \"g\":\n",
    "        HR1_sound.setFreq(415.30) # G#4\n",
    "    else: # \"h\"\n",
    "        HR1_sound.setFreq(440) # A4\n",
    "    \n",
    "    # Determine the correct note for MAP_sound to play.\n",
    "    if HR_SAX[x] == \"a\":\n",
    "        HR_sound.setFreq(440) # A4\n",
    "    elif HR_SAX[x] == \"b\":\n",
    "        HR_sound.setFreq(493.88) # B4\n",
    "    elif HR_SAX[x] == \"c\":\n",
    "        HR_sound.setFreq(554.37) # C#5\n",
    "    elif HR_SAX[x] == \"d\":\n",
    "        HR_sound.setFreq(587.33) # D5\n",
    "    elif HR_SAX[x] == \"e\":\n",
    "        HR_sound.setFreq(659.25) # E5\n",
    "    elif HR_SAX[x] == \"f\":\n",
    "        HR_sound.setFreq(739.99) # F#5\n",
    "    elif HR_SAX[x] == \"g\":\n",
    "        HR_sound.setFreq(830.61) # G#5\n",
    "    else: # \"h\"\n",
    "        HR_sound.setFreq(880) # A5\n",
    "    \n",
    "    # Play HR_sound and MAP_sound at the same time.\n",
    "    time.sleep(0.5) #half a second\n",
    "\n",
    "# Stops the pyo sound player\n",
    "s.stop()"
   ]
  },
  {
   "cell_type": "markdown",
   "metadata": {},
   "source": [
    "## Comparing different patients\n",
    "\n",
    "The [PhysioNet contest](https://physionet.org/content/challenge-2009/1.0.0/) from which these data are taken (the \"training\" dataset) involved, as the title would suggest, \"Predicting Acute Hypotensive Episodes.\" As such, the training data includes patients with and without periods of acute hypotension, as well as those who experienced hypotension before or after the data were collected. There are a wide variety of data. Hopefully we can see -- <em> and hear</em> -- as much.\n",
    "\n",
    "### Function to do everything in one step\n",
    "\n",
    "Below I will define a function for running the whole procedure (read in data --> znorm --> PAA --> SAX) on any given data file, and then another which adds the melody. (It's useful to be able to call your sound up on cue.)"
   ]
  },
  {
   "cell_type": "code",
   "execution_count": 22,
   "metadata": {},
   "outputs": [],
   "source": [
    "# Take one of the data files and return the sax string\n",
    "# - data_file: path to the .dat file from MIMIC II\n",
    "# - black_box: FALSE if you want graphs and feedback displayed;\n",
    "#              TRUE if, well, you don't.\n",
    "def saxify(data_file, black_box):\n",
    "    # Read in the data file.\n",
    "    data = pd.read_csv(data_file, header = None)\n",
    "    \n",
    "    # Convert to a normal array of floats.\n",
    "    hr_raw = data[0]\n",
    "    \n",
    "    # Graph the raw data (if desired)\n",
    "    if not black_box:\n",
    "        print(\"Raw data:\")\n",
    "        plt.plot(hr_raw)\n",
    "        plt.show()       \n",
    "    \n",
    "    # Normalize\n",
    "    hr_norm = znorm(hr_raw)\n",
    "    \n",
    "    # Apply PAA\n",
    "    paa_size = len(hr_norm) // 80 # int(len(hr_norm) / paa_modifier)\n",
    "    if not black_box: print(\"PAA size =\", paa_size)\n",
    "    hr_paa = paa(hr_norm, paa_size)\n",
    "    # ... and graph if desired\n",
    "    if not black_box:\n",
    "        print(\"Smoothed data after PAA:\"); plt.plot(hr_paa); plt.show()\n",
    "    \n",
    "    # Create SAX string\n",
    "    hr_sax = ts_to_string(hr_paa, cuts_for_asize(8))\n",
    "    # ... and display if desired\n",
    "    if not black_box:\n",
    "        print(\"SAX string:\", hr_sax)\n",
    "    \n",
    "    # Returns the SAX string\n",
    "    return hr_sax\n",
    "\n",
    "# Just a function that calls saxify() and melody() in sequence.\n",
    "def sonify(data_file, black_box):\n",
    "    melody(saxify(data_file, black_box), black_box)"
   ]
  },
  {
   "cell_type": "markdown",
   "metadata": {},
   "source": [
    "### Applying function to other datasets"
   ]
  },
  {
   "cell_type": "code",
   "execution_count": 26,
   "metadata": {},
   "outputs": [],
   "source": [
    "# # Commented out for not interrupting the demo\n",
    "# sonify(\"newImprovedData/HR_a40834_1.dat\", black_box = False)"
   ]
  },
  {
   "cell_type": "code",
   "execution_count": null,
   "metadata": {},
   "outputs": [],
   "source": []
  },
  {
   "cell_type": "markdown",
   "metadata": {},
   "source": [
    "## Demo for presentation\n",
    "\n",
    "Here I call saxify() and melody() separately."
   ]
  },
  {
   "cell_type": "code",
   "execution_count": 23,
   "metadata": {
    "scrolled": true
   },
   "outputs": [
    {
     "ename": "FileNotFoundError",
     "evalue": "[Errno 2] No such file or directory: 'newImprovedData/HR_a40006_1.dat'",
     "output_type": "error",
     "traceback": [
      "\u001b[0;31m---------------------------------------------------------------------------\u001b[0m",
      "\u001b[0;31mFileNotFoundError\u001b[0m                         Traceback (most recent call last)",
      "\u001b[0;32m<ipython-input-23-20bef8fc0928>\u001b[0m in \u001b[0;36m<module>\u001b[0;34m\u001b[0m\n\u001b[0;32m----> 1\u001b[0;31m \u001b[0msax_1\u001b[0m \u001b[0;34m=\u001b[0m \u001b[0msaxify\u001b[0m\u001b[0;34m(\u001b[0m\u001b[0;34m\"newImprovedData/HR_a40006_1.dat\"\u001b[0m\u001b[0;34m,\u001b[0m \u001b[0mblack_box\u001b[0m \u001b[0;34m=\u001b[0m \u001b[0;32mFalse\u001b[0m\u001b[0;34m)\u001b[0m\u001b[0;34m\u001b[0m\u001b[0;34m\u001b[0m\u001b[0m\n\u001b[0m",
      "\u001b[0;32m<ipython-input-22-5d1ee209e054>\u001b[0m in \u001b[0;36msaxify\u001b[0;34m(data_file, black_box)\u001b[0m\n\u001b[1;32m      5\u001b[0m \u001b[0;32mdef\u001b[0m \u001b[0msaxify\u001b[0m\u001b[0;34m(\u001b[0m\u001b[0mdata_file\u001b[0m\u001b[0;34m,\u001b[0m \u001b[0mblack_box\u001b[0m\u001b[0;34m)\u001b[0m\u001b[0;34m:\u001b[0m\u001b[0;34m\u001b[0m\u001b[0;34m\u001b[0m\u001b[0m\n\u001b[1;32m      6\u001b[0m     \u001b[0;31m# Read in the data file.\u001b[0m\u001b[0;34m\u001b[0m\u001b[0;34m\u001b[0m\u001b[0;34m\u001b[0m\u001b[0m\n\u001b[0;32m----> 7\u001b[0;31m     \u001b[0mdata\u001b[0m \u001b[0;34m=\u001b[0m \u001b[0mpd\u001b[0m\u001b[0;34m.\u001b[0m\u001b[0mread_csv\u001b[0m\u001b[0;34m(\u001b[0m\u001b[0mdata_file\u001b[0m\u001b[0;34m,\u001b[0m \u001b[0mheader\u001b[0m \u001b[0;34m=\u001b[0m \u001b[0;32mNone\u001b[0m\u001b[0;34m)\u001b[0m\u001b[0;34m\u001b[0m\u001b[0;34m\u001b[0m\u001b[0m\n\u001b[0m\u001b[1;32m      8\u001b[0m \u001b[0;34m\u001b[0m\u001b[0m\n\u001b[1;32m      9\u001b[0m     \u001b[0;31m# Convert to a normal array of floats.\u001b[0m\u001b[0;34m\u001b[0m\u001b[0;34m\u001b[0m\u001b[0;34m\u001b[0m\u001b[0m\n",
      "\u001b[0;32m~/opt/anaconda3/lib/python3.8/site-packages/pandas/io/parsers.py\u001b[0m in \u001b[0;36mread_csv\u001b[0;34m(filepath_or_buffer, sep, delimiter, header, names, index_col, usecols, squeeze, prefix, mangle_dupe_cols, dtype, engine, converters, true_values, false_values, skipinitialspace, skiprows, skipfooter, nrows, na_values, keep_default_na, na_filter, verbose, skip_blank_lines, parse_dates, infer_datetime_format, keep_date_col, date_parser, dayfirst, cache_dates, iterator, chunksize, compression, thousands, decimal, lineterminator, quotechar, quoting, doublequote, escapechar, comment, encoding, dialect, error_bad_lines, warn_bad_lines, delim_whitespace, low_memory, memory_map, float_precision)\u001b[0m\n\u001b[1;32m    684\u001b[0m     )\n\u001b[1;32m    685\u001b[0m \u001b[0;34m\u001b[0m\u001b[0m\n\u001b[0;32m--> 686\u001b[0;31m     \u001b[0;32mreturn\u001b[0m \u001b[0m_read\u001b[0m\u001b[0;34m(\u001b[0m\u001b[0mfilepath_or_buffer\u001b[0m\u001b[0;34m,\u001b[0m \u001b[0mkwds\u001b[0m\u001b[0;34m)\u001b[0m\u001b[0;34m\u001b[0m\u001b[0;34m\u001b[0m\u001b[0m\n\u001b[0m\u001b[1;32m    687\u001b[0m \u001b[0;34m\u001b[0m\u001b[0m\n\u001b[1;32m    688\u001b[0m \u001b[0;34m\u001b[0m\u001b[0m\n",
      "\u001b[0;32m~/opt/anaconda3/lib/python3.8/site-packages/pandas/io/parsers.py\u001b[0m in \u001b[0;36m_read\u001b[0;34m(filepath_or_buffer, kwds)\u001b[0m\n\u001b[1;32m    450\u001b[0m \u001b[0;34m\u001b[0m\u001b[0m\n\u001b[1;32m    451\u001b[0m     \u001b[0;31m# Create the parser.\u001b[0m\u001b[0;34m\u001b[0m\u001b[0;34m\u001b[0m\u001b[0;34m\u001b[0m\u001b[0m\n\u001b[0;32m--> 452\u001b[0;31m     \u001b[0mparser\u001b[0m \u001b[0;34m=\u001b[0m \u001b[0mTextFileReader\u001b[0m\u001b[0;34m(\u001b[0m\u001b[0mfp_or_buf\u001b[0m\u001b[0;34m,\u001b[0m \u001b[0;34m**\u001b[0m\u001b[0mkwds\u001b[0m\u001b[0;34m)\u001b[0m\u001b[0;34m\u001b[0m\u001b[0;34m\u001b[0m\u001b[0m\n\u001b[0m\u001b[1;32m    453\u001b[0m \u001b[0;34m\u001b[0m\u001b[0m\n\u001b[1;32m    454\u001b[0m     \u001b[0;32mif\u001b[0m \u001b[0mchunksize\u001b[0m \u001b[0;32mor\u001b[0m \u001b[0miterator\u001b[0m\u001b[0;34m:\u001b[0m\u001b[0;34m\u001b[0m\u001b[0;34m\u001b[0m\u001b[0m\n",
      "\u001b[0;32m~/opt/anaconda3/lib/python3.8/site-packages/pandas/io/parsers.py\u001b[0m in \u001b[0;36m__init__\u001b[0;34m(self, f, engine, **kwds)\u001b[0m\n\u001b[1;32m    944\u001b[0m             \u001b[0mself\u001b[0m\u001b[0;34m.\u001b[0m\u001b[0moptions\u001b[0m\u001b[0;34m[\u001b[0m\u001b[0;34m\"has_index_names\"\u001b[0m\u001b[0;34m]\u001b[0m \u001b[0;34m=\u001b[0m \u001b[0mkwds\u001b[0m\u001b[0;34m[\u001b[0m\u001b[0;34m\"has_index_names\"\u001b[0m\u001b[0;34m]\u001b[0m\u001b[0;34m\u001b[0m\u001b[0;34m\u001b[0m\u001b[0m\n\u001b[1;32m    945\u001b[0m \u001b[0;34m\u001b[0m\u001b[0m\n\u001b[0;32m--> 946\u001b[0;31m         \u001b[0mself\u001b[0m\u001b[0;34m.\u001b[0m\u001b[0m_make_engine\u001b[0m\u001b[0;34m(\u001b[0m\u001b[0mself\u001b[0m\u001b[0;34m.\u001b[0m\u001b[0mengine\u001b[0m\u001b[0;34m)\u001b[0m\u001b[0;34m\u001b[0m\u001b[0;34m\u001b[0m\u001b[0m\n\u001b[0m\u001b[1;32m    947\u001b[0m \u001b[0;34m\u001b[0m\u001b[0m\n\u001b[1;32m    948\u001b[0m     \u001b[0;32mdef\u001b[0m \u001b[0mclose\u001b[0m\u001b[0;34m(\u001b[0m\u001b[0mself\u001b[0m\u001b[0;34m)\u001b[0m\u001b[0;34m:\u001b[0m\u001b[0;34m\u001b[0m\u001b[0;34m\u001b[0m\u001b[0m\n",
      "\u001b[0;32m~/opt/anaconda3/lib/python3.8/site-packages/pandas/io/parsers.py\u001b[0m in \u001b[0;36m_make_engine\u001b[0;34m(self, engine)\u001b[0m\n\u001b[1;32m   1176\u001b[0m     \u001b[0;32mdef\u001b[0m \u001b[0m_make_engine\u001b[0m\u001b[0;34m(\u001b[0m\u001b[0mself\u001b[0m\u001b[0;34m,\u001b[0m \u001b[0mengine\u001b[0m\u001b[0;34m=\u001b[0m\u001b[0;34m\"c\"\u001b[0m\u001b[0;34m)\u001b[0m\u001b[0;34m:\u001b[0m\u001b[0;34m\u001b[0m\u001b[0;34m\u001b[0m\u001b[0m\n\u001b[1;32m   1177\u001b[0m         \u001b[0;32mif\u001b[0m \u001b[0mengine\u001b[0m \u001b[0;34m==\u001b[0m \u001b[0;34m\"c\"\u001b[0m\u001b[0;34m:\u001b[0m\u001b[0;34m\u001b[0m\u001b[0;34m\u001b[0m\u001b[0m\n\u001b[0;32m-> 1178\u001b[0;31m             \u001b[0mself\u001b[0m\u001b[0;34m.\u001b[0m\u001b[0m_engine\u001b[0m \u001b[0;34m=\u001b[0m \u001b[0mCParserWrapper\u001b[0m\u001b[0;34m(\u001b[0m\u001b[0mself\u001b[0m\u001b[0;34m.\u001b[0m\u001b[0mf\u001b[0m\u001b[0;34m,\u001b[0m \u001b[0;34m**\u001b[0m\u001b[0mself\u001b[0m\u001b[0;34m.\u001b[0m\u001b[0moptions\u001b[0m\u001b[0;34m)\u001b[0m\u001b[0;34m\u001b[0m\u001b[0;34m\u001b[0m\u001b[0m\n\u001b[0m\u001b[1;32m   1179\u001b[0m         \u001b[0;32melse\u001b[0m\u001b[0;34m:\u001b[0m\u001b[0;34m\u001b[0m\u001b[0;34m\u001b[0m\u001b[0m\n\u001b[1;32m   1180\u001b[0m             \u001b[0;32mif\u001b[0m \u001b[0mengine\u001b[0m \u001b[0;34m==\u001b[0m \u001b[0;34m\"python\"\u001b[0m\u001b[0;34m:\u001b[0m\u001b[0;34m\u001b[0m\u001b[0;34m\u001b[0m\u001b[0m\n",
      "\u001b[0;32m~/opt/anaconda3/lib/python3.8/site-packages/pandas/io/parsers.py\u001b[0m in \u001b[0;36m__init__\u001b[0;34m(self, src, **kwds)\u001b[0m\n\u001b[1;32m   2006\u001b[0m         \u001b[0mkwds\u001b[0m\u001b[0;34m[\u001b[0m\u001b[0;34m\"usecols\"\u001b[0m\u001b[0;34m]\u001b[0m \u001b[0;34m=\u001b[0m \u001b[0mself\u001b[0m\u001b[0;34m.\u001b[0m\u001b[0musecols\u001b[0m\u001b[0;34m\u001b[0m\u001b[0;34m\u001b[0m\u001b[0m\n\u001b[1;32m   2007\u001b[0m \u001b[0;34m\u001b[0m\u001b[0m\n\u001b[0;32m-> 2008\u001b[0;31m         \u001b[0mself\u001b[0m\u001b[0;34m.\u001b[0m\u001b[0m_reader\u001b[0m \u001b[0;34m=\u001b[0m \u001b[0mparsers\u001b[0m\u001b[0;34m.\u001b[0m\u001b[0mTextReader\u001b[0m\u001b[0;34m(\u001b[0m\u001b[0msrc\u001b[0m\u001b[0;34m,\u001b[0m \u001b[0;34m**\u001b[0m\u001b[0mkwds\u001b[0m\u001b[0;34m)\u001b[0m\u001b[0;34m\u001b[0m\u001b[0;34m\u001b[0m\u001b[0m\n\u001b[0m\u001b[1;32m   2009\u001b[0m         \u001b[0mself\u001b[0m\u001b[0;34m.\u001b[0m\u001b[0munnamed_cols\u001b[0m \u001b[0;34m=\u001b[0m \u001b[0mself\u001b[0m\u001b[0;34m.\u001b[0m\u001b[0m_reader\u001b[0m\u001b[0;34m.\u001b[0m\u001b[0munnamed_cols\u001b[0m\u001b[0;34m\u001b[0m\u001b[0;34m\u001b[0m\u001b[0m\n\u001b[1;32m   2010\u001b[0m \u001b[0;34m\u001b[0m\u001b[0m\n",
      "\u001b[0;32mpandas/_libs/parsers.pyx\u001b[0m in \u001b[0;36mpandas._libs.parsers.TextReader.__cinit__\u001b[0;34m()\u001b[0m\n",
      "\u001b[0;32mpandas/_libs/parsers.pyx\u001b[0m in \u001b[0;36mpandas._libs.parsers.TextReader._setup_parser_source\u001b[0;34m()\u001b[0m\n",
      "\u001b[0;31mFileNotFoundError\u001b[0m: [Errno 2] No such file or directory: 'newImprovedData/HR_a40006_1.dat'"
     ]
    }
   ],
   "source": [
    "sax_1 = saxify(\"newImprovedData/HR_a40006_1.dat\", black_box = False)"
   ]
  },
  {
   "cell_type": "code",
   "execution_count": 24,
   "metadata": {
    "scrolled": true
   },
   "outputs": [
    {
     "ename": "NameError",
     "evalue": "name 'sax_1' is not defined",
     "output_type": "error",
     "traceback": [
      "\u001b[0;31m---------------------------------------------------------------------------\u001b[0m",
      "\u001b[0;31mNameError\u001b[0m                                 Traceback (most recent call last)",
      "\u001b[0;32m<ipython-input-24-07b72c1a7a1e>\u001b[0m in \u001b[0;36m<module>\u001b[0;34m\u001b[0m\n\u001b[0;32m----> 1\u001b[0;31m \u001b[0mmelody\u001b[0m\u001b[0;34m(\u001b[0m\u001b[0msax_1\u001b[0m\u001b[0;34m,\u001b[0m \u001b[0mblack_box\u001b[0m \u001b[0;34m=\u001b[0m \u001b[0;32mFalse\u001b[0m\u001b[0;34m)\u001b[0m\u001b[0;34m\u001b[0m\u001b[0;34m\u001b[0m\u001b[0m\n\u001b[0m",
      "\u001b[0;31mNameError\u001b[0m: name 'sax_1' is not defined"
     ]
    }
   ],
   "source": [
    "melody(sax_1, black_box = False)"
   ]
  },
  {
   "cell_type": "code",
   "execution_count": null,
   "metadata": {},
   "outputs": [],
   "source": [
    "sax_2 = saxify(\"newImprovedData/HR_a40834_1.dat\", black_box = False)"
   ]
  },
  {
   "cell_type": "code",
   "execution_count": null,
   "metadata": {},
   "outputs": [],
   "source": [
    "melody(sax_2, black_box = False)"
   ]
  }
 ],
 "metadata": {
  "kernelspec": {
   "display_name": "Python 3",
   "language": "python",
   "name": "python3"
  },
  "language_info": {
   "codemirror_mode": {
    "name": "ipython",
    "version": 3
   },
   "file_extension": ".py",
   "mimetype": "text/x-python",
   "name": "python",
   "nbconvert_exporter": "python",
   "pygments_lexer": "ipython3",
   "version": "3.8.5"
  }
 },
 "nbformat": 4,
 "nbformat_minor": 4
}

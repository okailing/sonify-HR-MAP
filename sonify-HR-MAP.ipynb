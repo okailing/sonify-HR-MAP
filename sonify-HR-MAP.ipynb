{
 "cells": [
  {
   "cell_type": "markdown",
   "metadata": {},
   "source": [
    "# Otto Kailing -- Vital Sign Data Sonification"
   ]
  },
  {
   "cell_type": "markdown",
   "metadata": {},
   "source": [
    "## Setup"
   ]
  },
  {
   "cell_type": "code",
   "execution_count": 1,
   "metadata": {},
   "outputs": [
    {
     "name": "stdout",
     "output_type": "stream",
     "text": [
      "Requirement already satisfied: saxpy in /Users/reverie/opt/anaconda3/lib/python3.8/site-packages (1.0.1.dev167)\n",
      "Requirement already satisfied: codecov in /Users/reverie/opt/anaconda3/lib/python3.8/site-packages (from saxpy) (2.1.11)\n",
      "Requirement already satisfied: pytest in /Users/reverie/opt/anaconda3/lib/python3.8/site-packages (from saxpy) (0.0.0)\n",
      "Requirement already satisfied: numpy in /Users/reverie/opt/anaconda3/lib/python3.8/site-packages (from saxpy) (1.19.2)\n",
      "Requirement already satisfied: pytest-cov in /Users/reverie/opt/anaconda3/lib/python3.8/site-packages (from saxpy) (2.11.1)\n",
      "Requirement already satisfied: coverage in /Users/reverie/opt/anaconda3/lib/python3.8/site-packages (from codecov->saxpy) (5.5)\n",
      "Requirement already satisfied: requests>=2.7.9 in /Users/reverie/opt/anaconda3/lib/python3.8/site-packages (from codecov->saxpy) (2.24.0)\n",
      "Requirement already satisfied: attrs>=17.4.0 in /Users/reverie/opt/anaconda3/lib/python3.8/site-packages (from pytest->saxpy) (20.3.0)\n",
      "Requirement already satisfied: iniconfig in /Users/reverie/opt/anaconda3/lib/python3.8/site-packages (from pytest->saxpy) (1.1.1)\n",
      "Requirement already satisfied: packaging in /Users/reverie/opt/anaconda3/lib/python3.8/site-packages (from pytest->saxpy) (20.4)\n",
      "Requirement already satisfied: pluggy<1.0,>=0.12 in /Users/reverie/opt/anaconda3/lib/python3.8/site-packages (from pytest->saxpy) (0.13.1)\n",
      "Requirement already satisfied: py>=1.8.2 in /Users/reverie/opt/anaconda3/lib/python3.8/site-packages (from pytest->saxpy) (1.9.0)\n",
      "Requirement already satisfied: toml in /Users/reverie/opt/anaconda3/lib/python3.8/site-packages (from pytest->saxpy) (0.10.1)\n",
      "Requirement already satisfied: urllib3!=1.25.0,!=1.25.1,<1.26,>=1.21.1 in /Users/reverie/opt/anaconda3/lib/python3.8/site-packages (from requests>=2.7.9->codecov->saxpy) (1.25.11)\n",
      "Requirement already satisfied: chardet<4,>=3.0.2 in /Users/reverie/opt/anaconda3/lib/python3.8/site-packages (from requests>=2.7.9->codecov->saxpy) (3.0.4)\n",
      "Requirement already satisfied: idna<3,>=2.5 in /Users/reverie/opt/anaconda3/lib/python3.8/site-packages (from requests>=2.7.9->codecov->saxpy) (2.10)\n",
      "Requirement already satisfied: certifi>=2017.4.17 in /Users/reverie/opt/anaconda3/lib/python3.8/site-packages (from requests>=2.7.9->codecov->saxpy) (2020.6.20)\n",
      "Requirement already satisfied: six in /Users/reverie/opt/anaconda3/lib/python3.8/site-packages (from packaging->pytest->saxpy) (1.15.0)\n",
      "Requirement already satisfied: pyparsing>=2.0.2 in /Users/reverie/opt/anaconda3/lib/python3.8/site-packages (from packaging->pytest->saxpy) (2.4.7)\n",
      "Requirement already satisfied: playsound in /Users/reverie/opt/anaconda3/lib/python3.8/site-packages (1.2.2)\n",
      "Requirement already satisfied: simpleaudio in /Users/reverie/opt/anaconda3/lib/python3.8/site-packages (1.0.4)\n",
      "Collecting pyo\n",
      "  Downloading pyo-1.0.3-cp38-cp38-macosx_10_12_x86_64.whl (7.5 MB)\n",
      "\u001b[K     |████████████████████████████████| 7.5 MB 1.7 MB/s eta 0:00:01     |██████████████████              | 4.2 MB 2.3 MB/s eta 0:00:02     |█████████████████████▍          | 5.0 MB 2.3 MB/s eta 0:00:02\n",
      "\u001b[?25hInstalling collected packages: pyo\n",
      "Successfully installed pyo-1.0.3\n",
      "\n",
      "WxPython is not found for the current python version.\n",
      "Pyo will use a minimal GUI toolkit written with Tkinter (if available).\n",
      "This toolkit has limited functionnalities and is no more\n",
      "maintained or updated. If you want to use all of pyo's\n",
      "GUI features, you should install WxPython, available here:\n",
      "http://www.wxpython.org/\n",
      "\n"
     ]
    }
   ],
   "source": [
    "# Authors : Otto Kailing; Gian C. Rodríguez\n",
    "# Based on work by : José Constantino Sánchez Curet\n",
    "\n",
    "# Install the necessary things before importing\n",
    "!pip install saxpy\n",
    "!pip install playsound\n",
    "!pip install simpleaudio\n",
    "!pip install -U pyo\n",
    "\n",
    "# Importing libraries and required packages\n",
    "import numpy as np\n",
    "\n",
    "from saxpy.znorm import znorm              # to normalize the time series\n",
    "from saxpy.paa import paa                  # PAA\n",
    "from saxpy.sax import ts_to_string         # to convert the time series to string\n",
    "from saxpy.alphabet import cuts_for_asize  # alphabet size\n",
    "# from saxpy.sax import sax_via_window       # for smaller SAX words -- not currently used\n",
    "\n",
    "from pyo import *                              # actually can synthesize sound !!!!!!!!!\n",
    "import time\n",
    "\n",
    "import matplotlib.pyplot as plt\n",
    "\n",
    "import simpleaudio as sa                # basic sound playing package\n",
    "\n",
    "import csv                 # to be able to import .csv (and our .dat) files\n",
    "import pandas as pd        # for the readcsv function, to read in data"
   ]
  },
  {
   "cell_type": "markdown",
   "metadata": {},
   "source": [
    "## Working with two files at once"
   ]
  },
  {
   "cell_type": "code",
   "execution_count": 2,
   "metadata": {},
   "outputs": [
    {
     "name": "stdout",
     "output_type": "stream",
     "text": [
      "Length of HR file  = 3865 \n",
      "Length of MAP file = 3865\n"
     ]
    }
   ],
   "source": [
    "# Starting with patient 40006 -- the same one I used last summer for just HR\n",
    "HR = pd.read_csv(\"data/HR_a40006_1.dat\", header = None)\n",
    "MAP = pd.read_csv(\"data/MAP_a40006_1.dat\", header = None)\n",
    "\n",
    "# Convert both to array of floats\n",
    "HR = HR[0]\n",
    "MAP = MAP[0]\n",
    "\n",
    "# Verify that they're both the same length\n",
    "print(\"Length of HR file  =\", len(HR), \"\\nLength of MAP file =\", len(MAP))"
   ]
  },
  {
   "cell_type": "code",
   "execution_count": 3,
   "metadata": {},
   "outputs": [],
   "source": [
    "# Create backup of raw data\n",
    "# !!!!!!!!!!!!! RERUNNING THIS CELL WILL DELETE THE BACKUP !!!!!!!!!!!!!\n",
    "HR_raw = HR\n",
    "MAP_raw = MAP"
   ]
  },
  {
   "cell_type": "code",
   "execution_count": 4,
   "metadata": {},
   "outputs": [
    {
     "data": {
      "image/png": "[encoded data removed]",
      "text/plain": [
       "<Figure size 432x288 with 1 Axes>"
      ]
     },
     "metadata": {
      "needs_background": "light"
     },
     "output_type": "display_data"
    }
   ],
   "source": [
    "# Plot both raw files on the same plot\n",
    "plt.plot(HR_raw, label = \"Heart Rate (bpm)\")\n",
    "plt.plot(MAP_raw, label = \"Mean Arterial Pressure (mmHg)\")\n",
    "plt.title(\"Heart rate and mean arterial pressure for same patient\")\n",
    "plt.xlabel(\"Time (minutes)\")\n",
    "plt.legend()\n",
    "plt.show()"
   ]
  },
  {
   "cell_type": "code",
   "execution_count": 5,
   "metadata": {},
   "outputs": [
    {
     "name": "stdout",
     "output_type": "stream",
     "text": [
      "PAA size = 48\n",
      "\n",
      "Post PAA:\n",
      "Length of HR  = 48 \n",
      "Length of MAP = 48\n"
     ]
    }
   ],
   "source": [
    "# Normalize the data\n",
    "HR = znorm(HR)\n",
    "MAP = znorm(MAP)\n",
    "\n",
    "# Define PAA size (divide by 80 is what Otto used in the summer 2020 project)\n",
    "#  * We want same PAA size for both files, so they end up the same length too\n",
    "#  * len(HR_raw) because this will not change. In contrast, the objects\n",
    "#    \"HR\" and \"MAP\" are being reassigned at every step.\n",
    "paa_size = int(len(HR_raw) / 80)\n",
    "print(\"PAA size =\", paa_size)\n",
    "\n",
    "if (paa_size != 0):\n",
    "    # Apply PAA to both files\n",
    "    HR = paa(HR, paa_size)\n",
    "    MAP = paa(MAP, paa_size)\n",
    "    # NOTE: this should not cause any problems with rerunning. Asking to run a PAA\n",
    "    # of the post-PAA data with the same size should just regenerate the same data.\n",
    "    \n",
    "    # Verify that they're both the same length\n",
    "    print(\"\\nPost PAA:\\nLength of HR  =\", len(HR), \"\\nLength of MAP =\", len(MAP))\n",
    "else:\n",
    "    print(\"Error: PAA size is 0; cannot divide by 0\")\n"
   ]
  },
  {
   "cell_type": "code",
   "execution_count": 6,
   "metadata": {},
   "outputs": [
    {
     "data": {
      "image/png": "[encoded data removed]",
      "text/plain": [
       "<Figure size 432x288 with 1 Axes>"
      ]
     },
     "metadata": {
      "needs_background": "light"
     },
     "output_type": "display_data"
    }
   ],
   "source": [
    "# Plot the files post PAA adjustment.\n",
    "plt.plot(HR, label = \"Heart Rate\")\n",
    "plt.plot(MAP, label = \"Mean Arterial Pressure\")\n",
    "plt.title(\"PAA of HR and PAA for same patient\")\n",
    "plt.xlabel(\"PAA divisions\")\n",
    "plt.legend()\n",
    "plt.show()"
   ]
  },
  {
   "cell_type": "markdown",
   "metadata": {},
   "source": [
    "### Making SAX strings"
   ]
  },
  {
   "cell_type": "code",
   "execution_count": 7,
   "metadata": {},
   "outputs": [
    {
     "name": "stdout",
     "output_type": "stream",
     "text": [
      "HR SAX:  ffggggghhhhhhhhhhgfedcbbbbbbcccccccddeedbbaaaaaa \n",
      "MAP SAX: hhgfeeecegfffedffccedbbaabbdcbcegggggfgebccccece\n"
     ]
    }
   ],
   "source": [
    "# Define SAX alphabet size\n",
    "asize = 8\n",
    "\n",
    "# Create SAX strings of the two objects\n",
    "HR_SAX = ts_to_string(HR, cuts_for_asize(asize))\n",
    "MAP_SAX = ts_to_string(MAP, cuts_for_asize(asize))\n",
    "\n",
    "# Prints the SAX strings\n",
    "print(\"HR SAX: \", HR_SAX, \"\\nMAP SAX:\", MAP_SAX)"
   ]
  },
  {
   "cell_type": "markdown",
   "metadata": {},
   "source": [
    "## Exploring making sounds using Pyo\n",
    "\n",
    "Pyo should allow us to generate sounds within Python, and consequently within this Jupyter notebook, rather than relying on external files (like the summer 2020 version) or an external program like EarSketch. \n",
    "\n",
    "However, we need to figure out how to make sounds first.\n",
    "\n",
    "### Copying and pasting example from Pyo website\n",
    "This is directly from http://ajaxsoundstudio.com/software/pyo/... It is supposed to work.\n",
    "\n",
    "It creates a really interesting synthesized sound. however, I have no idea how to make it stop. I had to shutdown the whole kernel. We should probably look in the documentation for how to stop things."
   ]
  },
  {
   "cell_type": "code",
   "execution_count": 23,
   "metadata": {
    "scrolled": true
   },
   "outputs": [
    {
     "name": "stdout",
     "output_type": "stream",
     "text": [
      "Pyo warning: Portaudio input device `MacBook Air Microphone` has fewer channels (1) than requested (2).\n",
      "Pyo warning: Portmidi warning: no midi device found!\n",
      "Portmidi closed.\n"
     ]
    }
   ],
   "source": [
    "# s = Server().boot()\n",
    "# s.start()\n",
    "# wav = SquareTable()\n",
    "# env = CosTable([(0,0), (100,1), (500,.3), (8191,0)])\n",
    "# met = Metro(.125, 12).play()\n",
    "# amp = TrigEnv(met, table=env, dur=1, mul=.1)\n",
    "# pit = TrigXnoiseMidi(met, dist='loopseg', x1=20, scale=1, mrange=(48,84))\n",
    "# out = Osc(table=wav, freq=pit, mul=amp).out()"
   ]
  },
  {
   "cell_type": "markdown",
   "metadata": {},
   "source": [
    "### Copying and pasting an example from the documentation\n",
    "\n",
    "http://ajaxsoundstudio.com/pyodoc/examples/01-intro/02-sine-tone.html"
   ]
  },
  {
   "cell_type": "code",
   "execution_count": 8,
   "metadata": {},
   "outputs": [
    {
     "name": "stdout",
     "output_type": "stream",
     "text": [
      "Pyo warning: Portaudio input device `MacBook Air Microphone` has fewer channels (1) than requested (2).\n",
      "Pyo warning: Portmidi warning: no midi device found!\n",
      "Portmidi closed.\n"
     ]
    }
   ],
   "source": [
    "# # Creates and boots the server.\n",
    "# # The user should send the \"start\" command from the GUI.\n",
    "# s = Server().boot()\n",
    "# # Drops the gain by 20 dB.\n",
    "# s.amp = 0.1\n",
    "\n",
    "# # Creates a sine wave player.\n",
    "# # The out() method starts the processing\n",
    "# # and sends the signal to the output.\n",
    "# a = Sine().out()\n",
    "\n",
    "# # Opens the server graphical interface.\n",
    "# s.gui(locals())"
   ]
  },
  {
   "cell_type": "markdown",
   "metadata": {},
   "source": [
    "This opened a GUI window where I was able to start and stop playback of sound. This could be a really useful feature, especially for multivariate sonifications. However, when I hit \"quit\" the GUI window froze instead of quitting. \n",
    "\n",
    "### Controlling sounds with \"time\" library (not GUI)\n",
    "\n",
    "A lot of this is us messing around with code copied from here: http://ajaxsoundstudio.com/pyodoc/gettingstarted.html\n",
    "\n",
    "We were able to play two notes at the same time, and trigger them together!"
   ]
  },
  {
   "cell_type": "code",
   "execution_count": 15,
   "metadata": {},
   "outputs": [
    {
     "name": "stdout",
     "output_type": "stream",
     "text": [
      "Pyo warning: Portmidi warning: could not open midi input 0 (Scarlett 18i8 USB): PortMidi: `Invalid device ID'\n",
      "Pyo warning: Portmidi warning: could not open midi output 1 (Scarlett 18i8 USB): PortMidi: `Invalid device ID'\n",
      "Pyo warning: Portmidi closed.\n"
     ]
    }
   ],
   "source": [
    "s = Server().boot()\n",
    "a = Sine(440, 0, 0.1).out()\n",
    "e = Sine(659, 0, 0.1).out()\n",
    "s.start()\n",
    "time.sleep(1)\n",
    "s.stop()\n"
   ]
  },
  {
   "cell_type": "markdown",
   "metadata": {},
   "source": [
    "Now we want to test chaining sound generators together (from the same webpage)."
   ]
  },
  {
   "cell_type": "code",
   "execution_count": 16,
   "metadata": {},
   "outputs": [],
   "source": [
    "s = Server().boot()\n",
    "b = Adsr(attack=.01, decay=.2, sustain=.5, release=.1, dur=5, mul=.5)\n",
    "a = Sine(mul=f).out()\n",
    "b.play()\n",
    "# e.play()   # This plays at the same time!\n",
    "s.start()\n",
    "time.sleep(1)\n",
    "s.stop()\n",
    "\n"
   ]
  },
  {
   "cell_type": "markdown",
   "metadata": {},
   "source": [
    "## First sonification of multivariate data\n",
    "Ideally, we will move on to two different instrument sounds. However, we don't know how to do that yet.\n",
    "\n",
    "For now, HR will be represented by an Amaj scale from A3 to A4.\n",
    "\n",
    "MAP will be represented by an Amaj scale an octave higher, A4 to A5."
   ]
  },
  {
   "cell_type": "markdown",
   "metadata": {},
   "source": [
    "### Defining the instruments\n",
    "\n",
    "Currently, it throws \"invalid device ID\" error for Gian Carlo's speakers every other time. Weird."
   ]
  },
  {
   "cell_type": "code",
   "execution_count": 33,
   "metadata": {},
   "outputs": [],
   "source": [
    "# Create the server thing for pyo.\n",
    "s = Server().boot()\n",
    "\n",
    "# Define two basic sine wave instruments, customizing the amplitude (\"multiplier\").\n",
    "\n",
    "HR_sound = Sine(mul = 0.1).out()\n",
    "MAP_sound = Sine(mul = 0.1).out()\n"
   ]
  },
  {
   "cell_type": "markdown",
   "metadata": {},
   "source": [
    "### Playing the sonification"
   ]
  },
  {
   "cell_type": "code",
   "execution_count": 43,
   "metadata": {},
   "outputs": [
    {
     "name": "stdout",
     "output_type": "stream",
     "text": [
      "HR\tMAP\n",
      "f \t h\n",
      "f \t h\n",
      "g \t g\n",
      "g \t f\n",
      "g \t e\n",
      "g \t e\n",
      "g \t e\n",
      "h \t c\n",
      "h \t e\n",
      "h \t g\n",
      "h \t f\n",
      "h \t f\n",
      "h \t f\n",
      "h \t e\n",
      "h \t d\n",
      "h \t f\n",
      "h \t f\n",
      "g \t c\n",
      "f \t c\n",
      "e \t e\n",
      "d \t d\n",
      "c \t b\n",
      "b \t b\n",
      "b \t a\n",
      "b \t a\n",
      "b \t b\n",
      "b \t b\n",
      "b \t d\n",
      "c \t c\n",
      "c \t b\n",
      "c \t c\n",
      "c \t e\n",
      "c \t g\n",
      "c \t g\n",
      "c \t g\n",
      "d \t g\n",
      "d \t g\n",
      "e \t f\n",
      "e \t g\n",
      "d \t e\n",
      "b \t b\n",
      "b \t c\n",
      "a \t c\n",
      "a \t c\n",
      "a \t c\n",
      "a \t e\n",
      "a \t c\n",
      "a \t e\n"
     ]
    }
   ],
   "source": [
    "# Loops paa_size times, using an integer as index.\n",
    "print(\"HR\\tMAP\")\n",
    "\n",
    "# Starts the pyo sound player\n",
    "s.start()\n",
    "\n",
    "for x in range(0, paa_size):\n",
    "    # Prints the SAX letter for both strings.\n",
    "    print(HR_SAX[x], \"\\t\", MAP_SAX[x])\n",
    "    \n",
    "    # Determine the correct note for HR_sound to play.\n",
    "    if HR_SAX[x] == \"a\":\n",
    "        HR_sound.setFreq(220) # A3\n",
    "    elif HR_SAX[x] == \"b\":\n",
    "        HR_sound.setFreq(246.94) # B3\n",
    "    elif HR_SAX[x] == \"c\":\n",
    "        HR_sound.setFreq(277.18) # C#4\n",
    "    elif HR_SAX[x] == \"d\":\n",
    "        HR_sound.setFreq(293.66) # D4\n",
    "    elif HR_SAX[x] == \"e\":\n",
    "        HR_sound.setFreq(329.63) # E4\n",
    "    elif HR_SAX[x] == \"f\":\n",
    "        HR_sound.setFreq(369.99) # F#4\n",
    "    elif HR_SAX[x] == \"g\":\n",
    "        HR_sound.setFreq(415.30) # G#4\n",
    "    else: # \"h\"\n",
    "        HR_sound.setFreq(440) # A4\n",
    "    \n",
    "    # Determine the correct note for MAP_sound to play.\n",
    "    if MAP_SAX[x] == \"a\":\n",
    "        MAP_sound.setFreq(440) # A4\n",
    "    elif MAP_SAX[x] == \"b\":\n",
    "        MAP_sound.setFreq(493.88) # B4\n",
    "    elif MAP_SAX[x] == \"c\":\n",
    "        MAP_sound.setFreq(554.37) # C#5\n",
    "    elif MAP_SAX[x] == \"d\":\n",
    "        MAP_sound.setFreq(587.33) # D5\n",
    "    elif MAP_SAX[x] == \"e\":\n",
    "        MAP_sound.setFreq(659.25) # E5\n",
    "    elif MAP_SAX[x] == \"f\":\n",
    "        MAP_sound.setFreq(739.99) # F#5\n",
    "    elif MAP_SAX[x] == \"g\":\n",
    "        MAP_sound.setFreq(830.61) # G#5\n",
    "    else: # \"h\"\n",
    "        MAP_sound.setFreq(880) # A5\n",
    "    \n",
    "    # Play HR_sound and MAP_sound at the same time.\n",
    "    time.sleep(0.5) #half a second\n",
    "\n",
    "# Stops the pyo sound player\n",
    "s.stop()"
   ]
  },
  {
   "cell_type": "markdown",
   "metadata": {},
   "source": [
    "# Code from before\n",
    "#### Making Pyo read multivariate string data\n",
    "\n",
    "Let's define a function for our generated melody, so that we don't have to write it out every time."
   ]
  },
  {
   "cell_type": "code",
   "execution_count": 23,
   "metadata": {},
   "outputs": [],
   "source": [
    "def melody(sax, black_box):\n",
    "    if not black_box: print(\"Starting playback...\")\n",
    "    \n",
    "    # Iterate through the characters\n",
    "    for char in sax:\n",
    "        # Print the current letter\n",
    "        if not black_box: print(char, end=\"\")\n",
    "        \n",
    "        # Test for each character and play the correct note\n",
    "        if char == \"a\":\n",
    "            sound = sa.WaveObject.from_wave_file(\"soundFiles/a_low.wav\").play()\n",
    "        elif char == \"b\":\n",
    "            sound = sa.WaveObject.from_wave_file(\"soundFiles/b.wav\").play()\n",
    "        elif char == \"c\":\n",
    "            sound = sa.WaveObject.from_wave_file(\"soundFiles/db.wav\").play()\n",
    "        elif char == \"d\":\n",
    "            sound = sa.WaveObject.from_wave_file(\"soundFiles/d.wav\").play()\n",
    "        elif char == \"e\":\n",
    "            sound = sa.WaveObject.from_wave_file(\"soundFiles/e.wav\").play()\n",
    "        elif char == \"f\":\n",
    "            sound = sa.WaveObject.from_wave_file(\"soundFiles/gb.wav\").play()\n",
    "        elif char == \"g\":\n",
    "            sound = sa.WaveObject.from_wave_file(\"soundFiles/ab.wav\").play()\n",
    "        elif char == \"h\":\n",
    "            sound = sa.WaveObject.from_wave_file(\"soundFiles/a.wav\").play()\n",
    "        # Wait for each sound to finish before playing next one\n",
    "        sound.wait_done()\n",
    "    \n",
    "    if not black_box: print(\"\\nFinished!\")"
   ]
  },
  {
   "cell_type": "markdown",
   "metadata": {},
   "source": [
    "Now we can enact the function \"melody\" on our new SAX string."
   ]
  },
  {
   "cell_type": "code",
   "execution_count": 24,
   "metadata": {},
   "outputs": [
    {
     "name": "stdout",
     "output_type": "stream",
     "text": [
      "Graph of data post-PAA:\n"
     ]
    },
    {
     "data": {
      "image/png": "[encoded data removed]",
      "text/plain": [
       "<Figure size 432x288 with 1 Axes>"
      ]
     },
     "metadata": {
      "needs_background": "light"
     },
     "output_type": "display_data"
    },
    {
     "name": "stdout",
     "output_type": "stream",
     "text": [
      "SAX string: ffggggghhhhhhhhhhgfedcbbbbbbcccccccddeedbbaaaaaa\n",
      "Starting melody playback:\n",
      "Finished!\n"
     ]
    }
   ],
   "source": [
    "print(\"Graph of data post-PAA:\")\n",
    "plt.plot(hr2_paa_1_25); plt.show()\n",
    "print(\"SAX string:\", hr2_sax_short)\n",
    "\n",
    "# Calls the melody function on the new string\n",
    "print(\"Starting melody playback:\")\n",
    "# # Commented out for not interrupting the demo\n",
    "# melody(hr2_sax_short)\n",
    "print(\"Finished!\")"
   ]
  },
  {
   "cell_type": "markdown",
   "metadata": {},
   "source": [
    "## Comparing different patients\n",
    "\n",
    "The [PhysioNet contest](https://physionet.org/content/challenge-2009/1.0.0/) from which these data are taken (the \"training\" dataset) involved, as the title would suggest, \"Predicting Acute Hypotensive Episodes.\" As such, the training data includes patients with and without periods of acute hypotension, as well as those who experienced hypotension before or after the data were collected. There are a wide variety of data. Hopefully we can see -- <em> and hear</em> -- as much.\n",
    "\n",
    "### Function to do everything in one step\n",
    "\n",
    "Below I will define a function for running the whole procedure (read in data --> znorm --> PAA --> SAX) on any given data file, and then another which adds the melody. (It's useful to be able to call your sound up on cue.)"
   ]
  },
  {
   "cell_type": "code",
   "execution_count": 25,
   "metadata": {},
   "outputs": [],
   "source": [
    "# Take one of the data files and return the sax string\n",
    "# - data_file: path to the .dat file from MIMIC II\n",
    "# - black_box: FALSE if you want graphs and feedback displayed;\n",
    "#              TRUE if, well, you don't.\n",
    "def saxify(data_file, black_box):\n",
    "    # Read in the data file.\n",
    "    data = pd.read_csv(data_file, header = None)\n",
    "    \n",
    "    # Convert to a normal array of floats.\n",
    "    hr_raw = data[0]\n",
    "    \n",
    "    # Graph the raw data (if desired)\n",
    "    if not black_box:\n",
    "        print(\"Raw data:\")\n",
    "        plt.plot(hr_raw)\n",
    "        plt.show()       \n",
    "    \n",
    "    # Normalize\n",
    "    hr_norm = znorm(hr_raw)\n",
    "    \n",
    "    # Apply PAA\n",
    "    paa_size = len(hr_norm) // 80 # int(len(hr_norm) / paa_modifier)\n",
    "    if not black_box: print(\"PAA size =\", paa_size)\n",
    "    hr_paa = paa(hr_norm, paa_size)\n",
    "    # ... and graph if desired\n",
    "    if not black_box:\n",
    "        print(\"Smoothed data after PAA:\"); plt.plot(hr_paa); plt.show()\n",
    "    \n",
    "    # Create SAX string\n",
    "    hr_sax = ts_to_string(hr_paa, cuts_for_asize(8))\n",
    "    # ... and display if desired\n",
    "    if not black_box:\n",
    "        print(\"SAX string:\", hr_sax)\n",
    "    \n",
    "    # Returns the SAX string\n",
    "    return hr_sax\n",
    "\n",
    "# Just a function that calls saxify() and melody() in sequence.\n",
    "def sonify(data_file, black_box):\n",
    "    melody(saxify(data_file, black_box), black_box)"
   ]
  },
  {
   "cell_type": "markdown",
   "metadata": {},
   "source": [
    "### Applying function to other datasets"
   ]
  },
  {
   "cell_type": "code",
   "execution_count": 26,
   "metadata": {},
   "outputs": [],
   "source": [
    "# # Commented out for not interrupting the demo\n",
    "# sonify(\"newImprovedData/HR_a40834_1.dat\", black_box = False)"
   ]
  },
  {
   "cell_type": "code",
   "execution_count": null,
   "metadata": {},
   "outputs": [],
   "source": []
  },
  {
   "cell_type": "markdown",
   "metadata": {},
   "source": [
    "## Demo for presentation\n",
    "\n",
    "Here I call saxify() and melody() separately."
   ]
  },
  {
   "cell_type": "code",
   "execution_count": 27,
   "metadata": {
    "scrolled": true
   },
   "outputs": [
    {
     "name": "stdout",
     "output_type": "stream",
     "text": [
      "Raw data:\n"
     ]
    },
    {
     "data": {
      "image/png": "[encoded data removed]",
      "text/plain": [
       "<Figure size 432x288 with 1 Axes>"
      ]
     },
     "metadata": {
      "needs_background": "light"
     },
     "output_type": "display_data"
    },
    {
     "name": "stdout",
     "output_type": "stream",
     "text": [
      "PAA size = 48\n",
      "Smoothed data after PAA:\n"
     ]
    },
    {
     "data": {
      "image/png": "[encoded data removed]",
      "text/plain": [
       "<Figure size 432x288 with 1 Axes>"
      ]
     },
     "metadata": {
      "needs_background": "light"
     },
     "output_type": "display_data"
    },
    {
     "name": "stdout",
     "output_type": "stream",
     "text": [
      "SAX string: ffggggghhhhhhhhhhgfedcbbbbbbcccccccddeedbbaaaaaa\n"
     ]
    }
   ],
   "source": [
    "sax_1 = saxify(\"newImprovedData/HR_a40006_1.dat\", black_box = False)"
   ]
  },
  {
   "cell_type": "code",
   "execution_count": 29,
   "metadata": {
    "scrolled": true
   },
   "outputs": [
    {
     "name": "stdout",
     "output_type": "stream",
     "text": [
      "Starting playback...\n",
      "ffggggghhhhhhhhhhgfedcbbbbbbcccccccddeedbbaaaaaa\n",
      "Finished!\n"
     ]
    }
   ],
   "source": [
    "melody(sax_1, black_box = False)"
   ]
  },
  {
   "cell_type": "code",
   "execution_count": null,
   "metadata": {},
   "outputs": [],
   "source": [
    "sax_2 = saxify(\"newImprovedData/HR_a40834_1.dat\", black_box = False)"
   ]
  },
  {
   "cell_type": "code",
   "execution_count": null,
   "metadata": {},
   "outputs": [],
   "source": [
    "melody(sax_2, black_box = False)"
   ]
  }
 ],
 "metadata": {
  "kernelspec": {
   "display_name": "Python 3",
   "language": "python",
   "name": "python3"
  },
  "language_info": {
   "codemirror_mode": {
    "name": "ipython",
    "version": 3
   },
   "file_extension": ".py",
   "mimetype": "text/x-python",
   "name": "python",
   "nbconvert_exporter": "python",
   "pygments_lexer": "ipython3",
   "version": "3.8.5"
  }
 },
 "nbformat": 4,
 "nbformat_minor": 4
}
